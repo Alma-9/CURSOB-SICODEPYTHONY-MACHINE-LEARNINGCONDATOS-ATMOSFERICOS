{
 "cells": [
  {
   "cell_type": "code",
   "execution_count": 1,
   "id": "e01b8ebf",
   "metadata": {},
   "outputs": [],
   "source": [
    "import pandas as pd"
   ]
  },
  {
   "cell_type": "code",
   "execution_count": 2,
   "id": "e699b3e6",
   "metadata": {},
   "outputs": [],
   "source": [
    "data=pd.read_csv(\"https://raw.githubusercontent.com/jamc88/Analisis-datos-atmosfericos/refs/heads/main/datos/rama_2023_05.csv\")"
   ]
  },
  {
   "cell_type": "code",
   "execution_count": 3,
   "id": "deb90f15",
   "metadata": {},
   "outputs": [
    {
     "data": {
      "text/html": [
       "<div>\n",
       "<style scoped>\n",
       "    .dataframe tbody tr th:only-of-type {\n",
       "        vertical-align: middle;\n",
       "    }\n",
       "\n",
       "    .dataframe tbody tr th {\n",
       "        vertical-align: top;\n",
       "    }\n",
       "\n",
       "    .dataframe thead th {\n",
       "        text-align: right;\n",
       "    }\n",
       "</style>\n",
       "<table border=\"1\" class=\"dataframe\">\n",
       "  <thead>\n",
       "    <tr style=\"text-align: right;\">\n",
       "      <th></th>\n",
       "      <th>fecha</th>\n",
       "      <th>CO</th>\n",
       "      <th>NO</th>\n",
       "      <th>NO2</th>\n",
       "      <th>NOX</th>\n",
       "      <th>O3</th>\n",
       "      <th>PM10</th>\n",
       "      <th>PM25</th>\n",
       "      <th>SO2</th>\n",
       "    </tr>\n",
       "  </thead>\n",
       "  <tbody>\n",
       "    <tr>\n",
       "      <th>0</th>\n",
       "      <td>2015-01-01</td>\n",
       "      <td>1.050696</td>\n",
       "      <td>22.765528</td>\n",
       "      <td>24.225155</td>\n",
       "      <td>46.987578</td>\n",
       "      <td>23.175150</td>\n",
       "      <td>105.573684</td>\n",
       "      <td>78.953405</td>\n",
       "      <td>11.554723</td>\n",
       "    </tr>\n",
       "    <tr>\n",
       "      <th>1</th>\n",
       "      <td>2015-01-02</td>\n",
       "      <td>0.807585</td>\n",
       "      <td>32.249608</td>\n",
       "      <td>21.554160</td>\n",
       "      <td>53.800628</td>\n",
       "      <td>17.268366</td>\n",
       "      <td>36.687845</td>\n",
       "      <td>15.449438</td>\n",
       "      <td>1.895052</td>\n",
       "    </tr>\n",
       "    <tr>\n",
       "      <th>2</th>\n",
       "      <td>2015-01-03</td>\n",
       "      <td>0.640755</td>\n",
       "      <td>21.686916</td>\n",
       "      <td>19.394081</td>\n",
       "      <td>41.071651</td>\n",
       "      <td>15.486486</td>\n",
       "      <td>29.269022</td>\n",
       "      <td>12.915129</td>\n",
       "      <td>1.436937</td>\n",
       "    </tr>\n",
       "    <tr>\n",
       "      <th>3</th>\n",
       "      <td>2015-01-04</td>\n",
       "      <td>0.726940</td>\n",
       "      <td>24.606272</td>\n",
       "      <td>19.560976</td>\n",
       "      <td>44.165505</td>\n",
       "      <td>17.329032</td>\n",
       "      <td>39.961538</td>\n",
       "      <td>16.838284</td>\n",
       "      <td>1.809061</td>\n",
       "    </tr>\n",
       "    <tr>\n",
       "      <th>4</th>\n",
       "      <td>2015-01-05</td>\n",
       "      <td>0.530815</td>\n",
       "      <td>11.443182</td>\n",
       "      <td>20.990260</td>\n",
       "      <td>32.439935</td>\n",
       "      <td>14.470588</td>\n",
       "      <td>31.855643</td>\n",
       "      <td>12.667774</td>\n",
       "      <td>8.315789</td>\n",
       "    </tr>\n",
       "    <tr>\n",
       "      <th>...</th>\n",
       "      <td>...</td>\n",
       "      <td>...</td>\n",
       "      <td>...</td>\n",
       "      <td>...</td>\n",
       "      <td>...</td>\n",
       "      <td>...</td>\n",
       "      <td>...</td>\n",
       "      <td>...</td>\n",
       "      <td>...</td>\n",
       "    </tr>\n",
       "    <tr>\n",
       "      <th>3068</th>\n",
       "      <td>2023-05-27</td>\n",
       "      <td>0.256722</td>\n",
       "      <td>3.750583</td>\n",
       "      <td>17.284351</td>\n",
       "      <td>21.629371</td>\n",
       "      <td>41.580645</td>\n",
       "      <td>36.774011</td>\n",
       "      <td>21.170139</td>\n",
       "      <td>2.735683</td>\n",
       "    </tr>\n",
       "    <tr>\n",
       "      <th>3069</th>\n",
       "      <td>2023-05-28</td>\n",
       "      <td>0.286826</td>\n",
       "      <td>3.458886</td>\n",
       "      <td>16.349241</td>\n",
       "      <td>20.230769</td>\n",
       "      <td>36.913761</td>\n",
       "      <td>28.580000</td>\n",
       "      <td>18.454861</td>\n",
       "      <td>2.331658</td>\n",
       "    </tr>\n",
       "    <tr>\n",
       "      <th>3070</th>\n",
       "      <td>2023-05-29</td>\n",
       "      <td>0.482077</td>\n",
       "      <td>11.448113</td>\n",
       "      <td>24.521154</td>\n",
       "      <td>36.436321</td>\n",
       "      <td>29.697068</td>\n",
       "      <td>30.241486</td>\n",
       "      <td>16.692857</td>\n",
       "      <td>1.071588</td>\n",
       "    </tr>\n",
       "    <tr>\n",
       "      <th>3071</th>\n",
       "      <td>2023-05-30</td>\n",
       "      <td>0.441455</td>\n",
       "      <td>13.893519</td>\n",
       "      <td>22.615530</td>\n",
       "      <td>37.224537</td>\n",
       "      <td>36.185971</td>\n",
       "      <td>35.859532</td>\n",
       "      <td>20.888525</td>\n",
       "      <td>1.181818</td>\n",
       "    </tr>\n",
       "    <tr>\n",
       "      <th>3072</th>\n",
       "      <td>2023-05-31</td>\n",
       "      <td>0.340404</td>\n",
       "      <td>5.353066</td>\n",
       "      <td>19.372583</td>\n",
       "      <td>25.710359</td>\n",
       "      <td>47.860972</td>\n",
       "      <td>42.203390</td>\n",
       "      <td>24.787097</td>\n",
       "      <td>1.402083</td>\n",
       "    </tr>\n",
       "  </tbody>\n",
       "</table>\n",
       "<p>3073 rows × 9 columns</p>\n",
       "</div>"
      ],
      "text/plain": [
       "           fecha        CO         NO        NO2        NOX         O3  \\\n",
       "0     2015-01-01  1.050696  22.765528  24.225155  46.987578  23.175150   \n",
       "1     2015-01-02  0.807585  32.249608  21.554160  53.800628  17.268366   \n",
       "2     2015-01-03  0.640755  21.686916  19.394081  41.071651  15.486486   \n",
       "3     2015-01-04  0.726940  24.606272  19.560976  44.165505  17.329032   \n",
       "4     2015-01-05  0.530815  11.443182  20.990260  32.439935  14.470588   \n",
       "...          ...       ...        ...        ...        ...        ...   \n",
       "3068  2023-05-27  0.256722   3.750583  17.284351  21.629371  41.580645   \n",
       "3069  2023-05-28  0.286826   3.458886  16.349241  20.230769  36.913761   \n",
       "3070  2023-05-29  0.482077  11.448113  24.521154  36.436321  29.697068   \n",
       "3071  2023-05-30  0.441455  13.893519  22.615530  37.224537  36.185971   \n",
       "3072  2023-05-31  0.340404   5.353066  19.372583  25.710359  47.860972   \n",
       "\n",
       "            PM10       PM25        SO2  \n",
       "0     105.573684  78.953405  11.554723  \n",
       "1      36.687845  15.449438   1.895052  \n",
       "2      29.269022  12.915129   1.436937  \n",
       "3      39.961538  16.838284   1.809061  \n",
       "4      31.855643  12.667774   8.315789  \n",
       "...          ...        ...        ...  \n",
       "3068   36.774011  21.170139   2.735683  \n",
       "3069   28.580000  18.454861   2.331658  \n",
       "3070   30.241486  16.692857   1.071588  \n",
       "3071   35.859532  20.888525   1.181818  \n",
       "3072   42.203390  24.787097   1.402083  \n",
       "\n",
       "[3073 rows x 9 columns]"
      ]
     },
     "execution_count": 3,
     "metadata": {},
     "output_type": "execute_result"
    }
   ],
   "source": [
    "data"
   ]
  },
  {
   "cell_type": "code",
   "execution_count": 4,
   "id": "5ee4022a",
   "metadata": {},
   "outputs": [
    {
     "name": "stdout",
     "output_type": "stream",
     "text": [
      "Requirement already satisfied: scikit-learn in c:\\users\\victo\\anaconda3\\lib\\site-packages (1.3.2)\n",
      "Requirement already satisfied: threadpoolctl>=2.0.0 in c:\\users\\victo\\anaconda3\\lib\\site-packages (from scikit-learn) (2.1.0)\n",
      "Requirement already satisfied: numpy<2.0,>=1.17.3 in c:\\users\\victo\\anaconda3\\lib\\site-packages (from scikit-learn) (1.22.4)\n",
      "Requirement already satisfied: joblib>=1.1.1 in c:\\users\\victo\\anaconda3\\lib\\site-packages (from scikit-learn) (1.4.2)\n",
      "Requirement already satisfied: scipy>=1.5.0 in c:\\users\\victo\\anaconda3\\lib\\site-packages (from scikit-learn) (1.6.2)\n",
      "Note: you may need to restart the kernel to use updated packages.\n"
     ]
    }
   ],
   "source": [
    "pip install scikit-learn"
   ]
  },
  {
   "cell_type": "code",
   "execution_count": 44,
   "id": "4a95a8dd",
   "metadata": {},
   "outputs": [],
   "source": [
    "X=data[['CO','NOX']] #variable independiente\n",
    "y=data['PM10'] #variable dependiente"
   ]
  },
  {
   "cell_type": "code",
   "execution_count": 45,
   "id": "c1f03096",
   "metadata": {},
   "outputs": [],
   "source": [
    "split_index=int(len(data)*0.8)"
   ]
  },
  {
   "cell_type": "code",
   "execution_count": 46,
   "id": "c562260c",
   "metadata": {},
   "outputs": [],
   "source": [
    "X_train=X.iloc[:split_index]\n",
    "X_test=X.iloc[split_index:]\n",
    "y_train=y.iloc[:split_index]\n",
    "y_test=y.iloc[split_index:]"
   ]
  },
  {
   "cell_type": "code",
   "execution_count": 8,
   "id": "25596ce2",
   "metadata": {},
   "outputs": [
    {
     "name": "stdout",
     "output_type": "stream",
     "text": [
      "Requirement already satisfied: LinearRegression in c:\\users\\victo\\anaconda3\\lib\\site-packages (0.0.1)\n",
      "Note: you may need to restart the kernel to use updated packages.\n"
     ]
    }
   ],
   "source": [
    "pip install LinearRegression"
   ]
  },
  {
   "cell_type": "code",
   "execution_count": 47,
   "id": "538ab6f0",
   "metadata": {},
   "outputs": [],
   "source": [
    "from sklearn.linear_model import LinearRegression"
   ]
  },
  {
   "cell_type": "code",
   "execution_count": 48,
   "id": "18a61218",
   "metadata": {},
   "outputs": [],
   "source": [
    "model=LinearRegression()"
   ]
  },
  {
   "cell_type": "code",
   "execution_count": 49,
   "id": "d1486447",
   "metadata": {},
   "outputs": [
    {
     "data": {
      "text/html": [
       "<style>#sk-container-id-2 {color: black;}#sk-container-id-2 pre{padding: 0;}#sk-container-id-2 div.sk-toggleable {background-color: white;}#sk-container-id-2 label.sk-toggleable__label {cursor: pointer;display: block;width: 100%;margin-bottom: 0;padding: 0.3em;box-sizing: border-box;text-align: center;}#sk-container-id-2 label.sk-toggleable__label-arrow:before {content: \"▸\";float: left;margin-right: 0.25em;color: #696969;}#sk-container-id-2 label.sk-toggleable__label-arrow:hover:before {color: black;}#sk-container-id-2 div.sk-estimator:hover label.sk-toggleable__label-arrow:before {color: black;}#sk-container-id-2 div.sk-toggleable__content {max-height: 0;max-width: 0;overflow: hidden;text-align: left;background-color: #f0f8ff;}#sk-container-id-2 div.sk-toggleable__content pre {margin: 0.2em;color: black;border-radius: 0.25em;background-color: #f0f8ff;}#sk-container-id-2 input.sk-toggleable__control:checked~div.sk-toggleable__content {max-height: 200px;max-width: 100%;overflow: auto;}#sk-container-id-2 input.sk-toggleable__control:checked~label.sk-toggleable__label-arrow:before {content: \"▾\";}#sk-container-id-2 div.sk-estimator input.sk-toggleable__control:checked~label.sk-toggleable__label {background-color: #d4ebff;}#sk-container-id-2 div.sk-label input.sk-toggleable__control:checked~label.sk-toggleable__label {background-color: #d4ebff;}#sk-container-id-2 input.sk-hidden--visually {border: 0;clip: rect(1px 1px 1px 1px);clip: rect(1px, 1px, 1px, 1px);height: 1px;margin: -1px;overflow: hidden;padding: 0;position: absolute;width: 1px;}#sk-container-id-2 div.sk-estimator {font-family: monospace;background-color: #f0f8ff;border: 1px dotted black;border-radius: 0.25em;box-sizing: border-box;margin-bottom: 0.5em;}#sk-container-id-2 div.sk-estimator:hover {background-color: #d4ebff;}#sk-container-id-2 div.sk-parallel-item::after {content: \"\";width: 100%;border-bottom: 1px solid gray;flex-grow: 1;}#sk-container-id-2 div.sk-label:hover label.sk-toggleable__label {background-color: #d4ebff;}#sk-container-id-2 div.sk-serial::before {content: \"\";position: absolute;border-left: 1px solid gray;box-sizing: border-box;top: 0;bottom: 0;left: 50%;z-index: 0;}#sk-container-id-2 div.sk-serial {display: flex;flex-direction: column;align-items: center;background-color: white;padding-right: 0.2em;padding-left: 0.2em;position: relative;}#sk-container-id-2 div.sk-item {position: relative;z-index: 1;}#sk-container-id-2 div.sk-parallel {display: flex;align-items: stretch;justify-content: center;background-color: white;position: relative;}#sk-container-id-2 div.sk-item::before, #sk-container-id-2 div.sk-parallel-item::before {content: \"\";position: absolute;border-left: 1px solid gray;box-sizing: border-box;top: 0;bottom: 0;left: 50%;z-index: -1;}#sk-container-id-2 div.sk-parallel-item {display: flex;flex-direction: column;z-index: 1;position: relative;background-color: white;}#sk-container-id-2 div.sk-parallel-item:first-child::after {align-self: flex-end;width: 50%;}#sk-container-id-2 div.sk-parallel-item:last-child::after {align-self: flex-start;width: 50%;}#sk-container-id-2 div.sk-parallel-item:only-child::after {width: 0;}#sk-container-id-2 div.sk-dashed-wrapped {border: 1px dashed gray;margin: 0 0.4em 0.5em 0.4em;box-sizing: border-box;padding-bottom: 0.4em;background-color: white;}#sk-container-id-2 div.sk-label label {font-family: monospace;font-weight: bold;display: inline-block;line-height: 1.2em;}#sk-container-id-2 div.sk-label-container {text-align: center;}#sk-container-id-2 div.sk-container {/* jupyter's `normalize.less` sets `[hidden] { display: none; }` but bootstrap.min.css set `[hidden] { display: none !important; }` so we also need the `!important` here to be able to override the default hidden behavior on the sphinx rendered scikit-learn.org. See: https://github.com/scikit-learn/scikit-learn/issues/21755 */display: inline-block !important;position: relative;}#sk-container-id-2 div.sk-text-repr-fallback {display: none;}</style><div id=\"sk-container-id-2\" class=\"sk-top-container\"><div class=\"sk-text-repr-fallback\"><pre>LinearRegression()</pre><b>In a Jupyter environment, please rerun this cell to show the HTML representation or trust the notebook. <br />On GitHub, the HTML representation is unable to render, please try loading this page with nbviewer.org.</b></div><div class=\"sk-container\" hidden><div class=\"sk-item\"><div class=\"sk-estimator sk-toggleable\"><input class=\"sk-toggleable__control sk-hidden--visually\" id=\"sk-estimator-id-2\" type=\"checkbox\" checked><label for=\"sk-estimator-id-2\" class=\"sk-toggleable__label sk-toggleable__label-arrow\">LinearRegression</label><div class=\"sk-toggleable__content\"><pre>LinearRegression()</pre></div></div></div></div></div>"
      ],
      "text/plain": [
       "LinearRegression()"
      ]
     },
     "execution_count": 49,
     "metadata": {},
     "output_type": "execute_result"
    }
   ],
   "source": [
    "model.fit(X_train,y_train)"
   ]
  },
  {
   "cell_type": "code",
   "execution_count": 50,
   "id": "cd5b83b7",
   "metadata": {},
   "outputs": [],
   "source": [
    "y_pred=model.predict(X_test)"
   ]
  },
  {
   "cell_type": "code",
   "execution_count": 51,
   "id": "30ac9904",
   "metadata": {},
   "outputs": [],
   "source": [
    "coeficientes=pd.DataFrame({\n",
    "    'Variable':X.columns,\n",
    "    'Coeficientes':model.coef_\n",
    "    \n",
    "})"
   ]
  },
  {
   "cell_type": "code",
   "execution_count": 52,
   "id": "26d7c83b",
   "metadata": {},
   "outputs": [
    {
     "name": "stdout",
     "output_type": "stream",
     "text": [
      "  Variable  Coeficientes\n",
      "0       CO      -4.42238\n",
      "1      NOX       0.74793\n"
     ]
    }
   ],
   "source": [
    "print(coeficientes)"
   ]
  },
  {
   "cell_type": "code",
   "execution_count": 53,
   "id": "5b8dd7af",
   "metadata": {},
   "outputs": [
    {
     "name": "stdout",
     "output_type": "stream",
     "text": [
      "Intercepto:15.394050316557067\n"
     ]
    }
   ],
   "source": [
    "print(f\"Intercepto:{model.intercept_}\")"
   ]
  },
  {
   "cell_type": "code",
   "execution_count": 56,
   "id": "e631f030",
   "metadata": {},
   "outputs": [],
   "source": [
    "from sklearn.metrics import mean_squared_error, r2_score, mean_absolute_error\n",
    "\n",
    "r2=r2_score(y_test,y_pred)"
   ]
  },
  {
   "cell_type": "code",
   "execution_count": 57,
   "id": "1575bcea",
   "metadata": {},
   "outputs": [
    {
     "data": {
      "text/plain": [
       "0.4051483156923722"
      ]
     },
     "execution_count": 57,
     "metadata": {},
     "output_type": "execute_result"
    }
   ],
   "source": [
    "r2"
   ]
  },
  {
   "cell_type": "code",
   "execution_count": 58,
   "id": "e099e744",
   "metadata": {},
   "outputs": [],
   "source": [
    "rmse=mean_squared_error(y_test,y_pred,squared=False)"
   ]
  },
  {
   "cell_type": "code",
   "execution_count": 59,
   "id": "ad023e9a",
   "metadata": {},
   "outputs": [
    {
     "data": {
      "text/plain": [
       "11.015555045398493"
      ]
     },
     "execution_count": 59,
     "metadata": {},
     "output_type": "execute_result"
    }
   ],
   "source": [
    "rmse"
   ]
  },
  {
   "cell_type": "code",
   "execution_count": 60,
   "id": "a15bf271",
   "metadata": {},
   "outputs": [],
   "source": [
    "mae=mean_absolute_error(y_test,y_pred)"
   ]
  },
  {
   "cell_type": "code",
   "execution_count": 61,
   "id": "de8254ea",
   "metadata": {},
   "outputs": [
    {
     "data": {
      "text/plain": [
       "8.77187127970108"
      ]
     },
     "execution_count": 61,
     "metadata": {},
     "output_type": "execute_result"
    }
   ],
   "source": [
    "mae"
   ]
  },
  {
   "cell_type": "code",
   "execution_count": 62,
   "id": "446dbb17",
   "metadata": {},
   "outputs": [
    {
     "data": {
      "text/plain": [
       "array([35.84322788, 35.16986591, 27.93741429, 36.63817377, 41.13384142,\n",
       "       41.06242395, 42.75638277, 44.17721444, 41.37719193, 25.82155189,\n",
       "       29.04508134, 29.73548446, 32.63938451, 33.26152794, 37.54453601,\n",
       "       31.04669963, 32.62612718, 42.79223458, 44.49395668, 46.49808759,\n",
       "       44.54137796, 39.69857864, 29.54418195, 25.75107461, 40.48770376,\n",
       "       43.21548707, 40.28825791, 30.60020619, 33.59204026, 36.88470139,\n",
       "       31.9400362 , 51.05169762, 46.68372588, 40.86591425, 49.42332902,\n",
       "       46.26082727, 47.17695499, 39.32150203, 41.74288829, 41.65078904,\n",
       "       54.44211195, 48.85309131, 43.87679743, 44.1830246 , 33.8194889 ,\n",
       "       42.91702292, 44.68183935, 50.51921234, 46.307285  , 41.39198454,\n",
       "       32.1379949 , 31.89452241, 35.88945277, 54.38695419, 53.14398519,\n",
       "       50.37495549, 33.42907716, 37.13424237, 35.02935838, 33.6375235 ,\n",
       "       34.46112397, 47.26249987, 48.58843081, 35.47889646, 49.67038674,\n",
       "       39.44255202, 39.29978144, 53.18432663, 51.63623227, 49.73693122,\n",
       "       59.66507827, 52.37081412, 46.78590036, 56.0399664 , 53.45716092,\n",
       "       62.89822948, 64.15306838, 64.79512583, 54.95306839, 36.10739421,\n",
       "       49.83895238, 52.35017455, 57.526045  , 63.43024751, 60.11323209,\n",
       "       55.29123867, 46.51474079, 57.16445109, 63.23039508, 71.15097531,\n",
       "       74.9175326 , 74.17401083, 44.23782125, 50.51939915, 63.9111457 ,\n",
       "       52.74264338, 51.70266916, 68.04889924, 58.47226733, 44.77770899,\n",
       "       40.79897732, 41.638682  , 64.48343174, 61.92232938, 60.15973317,\n",
       "       58.72837383, 49.09028638, 37.05103253, 36.4380357 , 34.88776855,\n",
       "       51.52039974, 53.19444999, 59.17580363, 52.13691371, 39.90059917,\n",
       "       45.88172204, 52.16444735, 51.62968606, 48.25837265, 36.43716466,\n",
       "       33.36196113, 38.8922044 , 37.36867533, 40.16065801, 47.88015295,\n",
       "       44.18996916, 45.74484803, 32.39488832, 40.19014336, 40.94877872,\n",
       "       41.95019182, 42.95751427, 41.0814524 , 43.32481909, 41.38980751,\n",
       "       40.02262103, 39.80071104, 39.61786879, 47.2843646 , 45.14773495,\n",
       "       40.1005499 , 40.26559338, 27.69594516, 44.98629321, 44.38261773,\n",
       "       42.72230348, 50.28563644, 49.23677214, 43.69528269, 37.44882898,\n",
       "       44.73102059, 52.93516196, 47.17476542, 48.72577682, 42.28734631,\n",
       "       39.25598312, 35.12394732, 41.47212683, 50.5830272 , 49.33930449,\n",
       "       47.85731657, 45.2437834 , 42.91716255, 36.64655587, 38.83714485,\n",
       "       35.73733287, 37.49753328, 35.35071303, 41.23135953, 32.81715654,\n",
       "       36.74579682, 41.85118872, 49.58902175, 48.03006161, 43.93028676,\n",
       "       41.65739253, 37.06413119, 32.9286137 , 29.54571852, 37.11544929,\n",
       "       47.22486961, 42.31792737, 41.72881819, 40.80279333, 39.62153637,\n",
       "       46.70359632, 44.52807448, 37.81369312, 48.61948047, 44.97455916,\n",
       "       44.03209649, 33.74091441, 40.54346694, 39.93518372, 45.07713251,\n",
       "       32.52452503, 41.99327453, 45.0623675 , 38.56132248, 43.33509388,\n",
       "       35.87149719, 44.15508025, 37.54320029, 28.1818066 , 30.05242589,\n",
       "       31.86709326, 37.91556914, 29.26483949, 36.13098679, 40.49348744,\n",
       "       32.47233162, 37.67167773, 31.77083162, 41.84733233, 31.21302811,\n",
       "       29.19101957, 40.90323667, 41.99665378, 37.00386624, 29.05689931,\n",
       "       39.59561682, 43.54285316, 41.98245957, 41.74094636, 41.6421671 ,\n",
       "       37.62193361, 32.54086071, 39.41270097, 38.21763365, 27.8060842 ,\n",
       "       30.3187814 , 36.52776732, 39.86980277, 31.03266406, 38.65670021,\n",
       "       39.92705676, 39.6092844 , 33.32972355, 34.50032671, 34.75629038,\n",
       "       34.33198946, 36.06075706, 41.33505163, 39.86415774, 31.28407866,\n",
       "       27.17906286, 28.35683719, 27.93246853, 28.96912002, 32.44631061,\n",
       "       31.77693638, 28.19232293, 30.51246559, 33.84738431, 28.68677407,\n",
       "       38.27820493, 36.29393969, 32.83465417, 32.69683811, 35.2875186 ,\n",
       "       37.52959868, 29.88418201, 37.58167128, 33.98591998, 33.02227119,\n",
       "       31.92308743, 32.93560853, 29.37300016, 26.46239868, 32.33777328,\n",
       "       28.90124037, 31.10413286, 32.2259934 , 37.63131659, 36.89083538,\n",
       "       29.23768498, 28.8505179 , 34.93380219, 30.75708354, 31.3269436 ,\n",
       "       37.11636121, 36.42072946, 24.80361264, 28.94365444, 36.49086803,\n",
       "       35.21697528, 31.88687586, 32.2298404 , 30.66511153, 27.26872319,\n",
       "       33.88357772, 38.65232351, 33.78892041, 33.25501405, 33.97479473,\n",
       "       32.40740353, 28.32045229, 45.68538263, 43.02747221, 39.05102942,\n",
       "       38.4984377 , 37.84247059, 30.37675929, 27.24885659, 33.97203569,\n",
       "       35.72214981, 38.51167771, 41.18805856, 41.37092559, 32.27122273,\n",
       "       25.35840885, 34.25113498, 40.71919878, 37.51573363, 41.83376996,\n",
       "       37.72329725, 34.18231787, 28.37248931, 31.45459785, 33.08130429,\n",
       "       37.00073415, 31.2102426 , 32.73647735, 35.6317682 , 28.37960032,\n",
       "       35.5608061 , 41.34096032, 41.68107819, 41.07359502, 48.81536327,\n",
       "       31.16497655, 32.14404739, 39.82031263, 37.74270355, 38.80535513,\n",
       "       31.8789974 , 37.00685709, 40.51986236, 27.66413767, 34.77366621,\n",
       "       35.65790224, 34.23657951, 31.26265948, 28.26762609, 26.53628141,\n",
       "       25.20538103, 30.76647213, 40.97249224, 37.66080887, 31.21588323,\n",
       "       39.79886672, 38.59893997, 24.74193562, 28.14292269, 29.34339018,\n",
       "       30.80132022, 30.58926646, 25.011515  , 29.86089036, 29.94635919,\n",
       "       36.94368379, 31.71749997, 29.94853728, 27.54951439, 30.0325815 ,\n",
       "       32.42304901, 29.88340702, 27.34565858, 28.54752208, 28.94534688,\n",
       "       26.95824957, 35.56636011, 38.78749369, 34.27654981, 37.01333583,\n",
       "       43.19575351, 41.0633504 , 34.43296498, 34.96115468, 29.53942137,\n",
       "       26.63054959, 32.43257619, 38.34119651, 40.79675807, 40.82036116,\n",
       "       43.58323539, 36.43265192, 31.64567723, 41.68955857, 36.31939291,\n",
       "       32.24096815, 44.53036086, 47.57949203, 45.26707436, 34.83140144,\n",
       "       41.94364153, 44.24434918, 46.11900351, 46.4861322 , 47.20296752,\n",
       "       32.34687443, 29.97460324, 40.38611711, 41.31164019, 30.3400549 ,\n",
       "       47.62239623, 48.75634762, 46.53514156, 37.65459776, 42.9377153 ,\n",
       "       31.47556163, 40.35593539, 49.93761825, 51.07297051, 45.37999454,\n",
       "       36.43530338, 44.90144018, 50.29686787, 44.03047725, 47.41481425,\n",
       "       39.48914084, 44.8188274 , 33.30282434, 33.27590743, 44.86275852,\n",
       "       48.59674709, 55.66152542, 52.63594298, 44.51755237, 45.13430907,\n",
       "       53.40591992, 61.29661661, 42.44650401, 36.42105527, 47.81949221,\n",
       "       41.65658667, 33.74325286, 60.32923277, 63.57530028, 59.79381474,\n",
       "       58.82171054, 50.41826179, 51.00978269, 43.11832415, 53.39505303,\n",
       "       52.14049913, 52.53023436, 60.36001527, 66.71294949, 51.80920047,\n",
       "       46.02789451, 55.52079182, 54.43262593, 47.98245281, 56.5347817 ,\n",
       "       38.98115477, 47.05312862, 34.55446352, 41.05346223, 43.62262522,\n",
       "       48.49962755, 50.68675452, 47.08242877, 36.66828141, 37.21838427,\n",
       "       37.27119868, 39.45834418, 55.62865816, 45.99862179, 49.06309667,\n",
       "       50.9129286 , 44.06411425, 47.10403748, 50.15457521, 54.01944552,\n",
       "       52.32067648, 35.22997274, 50.83220002, 47.9508361 , 58.97291549,\n",
       "       61.40963768, 57.33592135, 64.41405365, 59.9215202 , 50.31482923,\n",
       "       37.68699279, 39.1469527 , 41.30931392, 55.27827846, 46.66374156,\n",
       "       52.30609139, 49.83068835, 45.36157179, 56.61244026, 56.41567951,\n",
       "       45.81119784, 54.36317229, 32.50497973, 43.77525992, 38.56585227,\n",
       "       42.03875911, 58.03083116, 50.33297352, 38.71642469, 43.98561311,\n",
       "       33.81063866, 36.31955727, 46.37466748, 44.89196714, 44.51330876,\n",
       "       50.33577246, 39.18969409, 41.90768097, 34.84227351, 48.73951983,\n",
       "       43.51645312, 34.46155167, 49.01325286, 45.23719705, 36.81260164,\n",
       "       39.2465837 , 44.83213356, 50.78385636, 48.25111869, 48.55359685,\n",
       "       46.42897548, 46.23267004, 39.19195065, 45.59503504, 49.70089528,\n",
       "       48.66236663, 48.4354413 , 51.86523692, 47.27234188, 38.17131701,\n",
       "       40.74216919, 44.07739105, 35.7804809 , 40.87114188, 41.11848271,\n",
       "       30.59605605, 29.69170622, 33.51085584, 42.67957448, 44.60405582,\n",
       "       38.42937237, 38.51711892, 42.0347597 , 38.26678212, 46.02411178,\n",
       "       43.55499535, 40.66447821, 44.21071729, 46.51881521, 41.49895605,\n",
       "       32.70643077, 40.40107616, 44.94434462, 42.10480545, 28.84303744,\n",
       "       24.53428941, 28.14321948, 28.75016727, 33.66935299, 33.00647114,\n",
       "       33.80580741, 35.4547381 , 43.5250059 , 42.78429236, 28.91121312,\n",
       "       33.36076183, 38.40836754, 44.2375524 , 42.71814748, 39.2721581 ,\n",
       "       33.84340005, 31.94658316, 32.55211276, 32.02935083, 39.49921582,\n",
       "       46.0578572 , 39.17439987, 38.31992427, 32.25069265, 32.54773012,\n",
       "       33.86887307, 38.64353332, 33.40368606, 42.26148583, 41.70698623,\n",
       "       32.45022573, 36.51273591, 43.27458287, 45.1369204 , 47.49533232,\n",
       "       46.23139246, 41.41512198, 34.68515782, 35.18399802, 44.16868788,\n",
       "       43.9553152 , 38.90146543, 38.05834706, 39.36811979, 27.00126523,\n",
       "       38.52317994, 46.20287425, 38.80010338, 36.69719068, 31.50053606,\n",
       "       30.43598499, 29.25679723, 40.51393917, 41.28311859, 33.11820509])"
      ]
     },
     "execution_count": 62,
     "metadata": {},
     "output_type": "execute_result"
    }
   ],
   "source": [
    "y_pred"
   ]
  },
  {
   "cell_type": "code",
   "execution_count": 33,
   "id": "1b459c5b",
   "metadata": {},
   "outputs": [],
   "source": [
    "import matplotlib.pyplot as plt"
   ]
  },
  {
   "cell_type": "code",
   "execution_count": 63,
   "id": "882a035d",
   "metadata": {},
   "outputs": [],
   "source": [
    "residuos=y_test-y_pred"
   ]
  },
  {
   "cell_type": "code",
   "execution_count": 64,
   "id": "3876a54c",
   "metadata": {},
   "outputs": [
    {
     "data": {
      "text/plain": [
       "Text(0, 0.5, 'Frecuencia')"
      ]
     },
     "execution_count": 64,
     "metadata": {},
     "output_type": "execute_result"
    },
    {
     "data": {
      "image/png": "[encoded data removed]",
      "text/plain": [
       "<Figure size 432x288 with 1 Axes>"
      ]
     },
     "metadata": {
      "needs_background": "light"
     },
     "output_type": "display_data"
    }
   ],
   "source": [
    "plt.hist(residuos,bins=15,color='gray',alpha=0.7)\n",
    "plt.title('Distribucion de residuos')\n",
    "plt.xlabel('Residuos')\n",
    "plt.ylabel('Frecuencia')"
   ]
  },
  {
   "cell_type": "code",
   "execution_count": 65,
   "id": "bb62012b",
   "metadata": {},
   "outputs": [
    {
     "ename": "ValueError",
     "evalue": "Multi-dimensional indexing (e.g. `obj[:, None]`) is no longer supported. Convert to a numpy array before indexing instead.",
     "output_type": "error",
     "traceback": [
      "\u001b[1;31m---------------------------------------------------------------------------\u001b[0m",
      "\u001b[1;31mValueError\u001b[0m                                Traceback (most recent call last)",
      "\u001b[1;32m<ipython-input-65-cb02accdf1d9>\u001b[0m in \u001b[0;36m<module>\u001b[1;34m\u001b[0m\n\u001b[0;32m      1\u001b[0m \u001b[0mplt\u001b[0m\u001b[1;33m.\u001b[0m\u001b[0mfigure\u001b[0m\u001b[1;33m(\u001b[0m\u001b[0mfigsize\u001b[0m\u001b[1;33m=\u001b[0m\u001b[1;33m(\u001b[0m\u001b[1;36m12\u001b[0m\u001b[1;33m,\u001b[0m\u001b[1;36m6\u001b[0m\u001b[1;33m)\u001b[0m\u001b[1;33m)\u001b[0m\u001b[1;33m\u001b[0m\u001b[1;33m\u001b[0m\u001b[0m\n\u001b[1;32m----> 2\u001b[1;33m \u001b[0mplt\u001b[0m\u001b[1;33m.\u001b[0m\u001b[0mplot\u001b[0m\u001b[1;33m(\u001b[0m\u001b[0mdata\u001b[0m\u001b[1;33m.\u001b[0m\u001b[0miloc\u001b[0m\u001b[1;33m[\u001b[0m\u001b[0msplit_index\u001b[0m\u001b[1;33m:\u001b[0m\u001b[1;33m]\u001b[0m\u001b[1;33m[\u001b[0m\u001b[1;34m'fecha'\u001b[0m\u001b[1;33m]\u001b[0m\u001b[1;33m.\u001b[0m\u001b[0mto_numpy\u001b[0m\u001b[1;33m(\u001b[0m\u001b[1;33m)\u001b[0m\u001b[1;33m,\u001b[0m\u001b[0my_test\u001b[0m\u001b[1;33m,\u001b[0m\u001b[0mlinestyle\u001b[0m\u001b[1;33m=\u001b[0m\u001b[1;34m'--'\u001b[0m\u001b[1;33m,\u001b[0m\u001b[0mcolor\u001b[0m\u001b[1;33m=\u001b[0m\u001b[1;34m'green'\u001b[0m\u001b[1;33m)\u001b[0m\u001b[1;33m\u001b[0m\u001b[1;33m\u001b[0m\u001b[0m\n\u001b[0m\u001b[0;32m      3\u001b[0m \u001b[0mplt\u001b[0m\u001b[1;33m.\u001b[0m\u001b[0mplot\u001b[0m\u001b[1;33m(\u001b[0m\u001b[0mdata\u001b[0m\u001b[1;33m.\u001b[0m\u001b[0miloc\u001b[0m\u001b[1;33m[\u001b[0m\u001b[0msplit_index\u001b[0m\u001b[1;33m:\u001b[0m\u001b[1;33m]\u001b[0m\u001b[1;33m[\u001b[0m\u001b[1;34m'fecha'\u001b[0m\u001b[1;33m]\u001b[0m\u001b[1;33m.\u001b[0m\u001b[0mto_numpy\u001b[0m\u001b[1;33m(\u001b[0m\u001b[1;33m)\u001b[0m\u001b[1;33m,\u001b[0m\u001b[0my_pred\u001b[0m\u001b[1;33m,\u001b[0m\u001b[0mlinestyle\u001b[0m\u001b[1;33m=\u001b[0m\u001b[1;34m'-'\u001b[0m\u001b[1;33m,\u001b[0m\u001b[0mcolor\u001b[0m\u001b[1;33m=\u001b[0m\u001b[1;34m'red'\u001b[0m\u001b[1;33m)\u001b[0m\u001b[1;33m\u001b[0m\u001b[1;33m\u001b[0m\u001b[0m\n",
      "\u001b[1;32m~\\anaconda3\\lib\\site-packages\\matplotlib\\pyplot.py\u001b[0m in \u001b[0;36mplot\u001b[1;34m(scalex, scaley, data, *args, **kwargs)\u001b[0m\n\u001b[0;32m   2838\u001b[0m \u001b[1;33m@\u001b[0m\u001b[0m_copy_docstring_and_deprecators\u001b[0m\u001b[1;33m(\u001b[0m\u001b[0mAxes\u001b[0m\u001b[1;33m.\u001b[0m\u001b[0mplot\u001b[0m\u001b[1;33m)\u001b[0m\u001b[1;33m\u001b[0m\u001b[1;33m\u001b[0m\u001b[0m\n\u001b[0;32m   2839\u001b[0m \u001b[1;32mdef\u001b[0m \u001b[0mplot\u001b[0m\u001b[1;33m(\u001b[0m\u001b[1;33m*\u001b[0m\u001b[0margs\u001b[0m\u001b[1;33m,\u001b[0m \u001b[0mscalex\u001b[0m\u001b[1;33m=\u001b[0m\u001b[1;32mTrue\u001b[0m\u001b[1;33m,\u001b[0m \u001b[0mscaley\u001b[0m\u001b[1;33m=\u001b[0m\u001b[1;32mTrue\u001b[0m\u001b[1;33m,\u001b[0m \u001b[0mdata\u001b[0m\u001b[1;33m=\u001b[0m\u001b[1;32mNone\u001b[0m\u001b[1;33m,\u001b[0m \u001b[1;33m**\u001b[0m\u001b[0mkwargs\u001b[0m\u001b[1;33m)\u001b[0m\u001b[1;33m:\u001b[0m\u001b[1;33m\u001b[0m\u001b[1;33m\u001b[0m\u001b[0m\n\u001b[1;32m-> 2840\u001b[1;33m     return gca().plot(\n\u001b[0m\u001b[0;32m   2841\u001b[0m         \u001b[1;33m*\u001b[0m\u001b[0margs\u001b[0m\u001b[1;33m,\u001b[0m \u001b[0mscalex\u001b[0m\u001b[1;33m=\u001b[0m\u001b[0mscalex\u001b[0m\u001b[1;33m,\u001b[0m \u001b[0mscaley\u001b[0m\u001b[1;33m=\u001b[0m\u001b[0mscaley\u001b[0m\u001b[1;33m,\u001b[0m\u001b[1;33m\u001b[0m\u001b[1;33m\u001b[0m\u001b[0m\n\u001b[0;32m   2842\u001b[0m         **({\"data\": data} if data is not None else {}), **kwargs)\n",
      "\u001b[1;32m~\\anaconda3\\lib\\site-packages\\matplotlib\\axes\\_axes.py\u001b[0m in \u001b[0;36mplot\u001b[1;34m(self, scalex, scaley, data, *args, **kwargs)\u001b[0m\n\u001b[0;32m   1741\u001b[0m         \"\"\"\n\u001b[0;32m   1742\u001b[0m         \u001b[0mkwargs\u001b[0m \u001b[1;33m=\u001b[0m \u001b[0mcbook\u001b[0m\u001b[1;33m.\u001b[0m\u001b[0mnormalize_kwargs\u001b[0m\u001b[1;33m(\u001b[0m\u001b[0mkwargs\u001b[0m\u001b[1;33m,\u001b[0m \u001b[0mmlines\u001b[0m\u001b[1;33m.\u001b[0m\u001b[0mLine2D\u001b[0m\u001b[1;33m)\u001b[0m\u001b[1;33m\u001b[0m\u001b[1;33m\u001b[0m\u001b[0m\n\u001b[1;32m-> 1743\u001b[1;33m         \u001b[0mlines\u001b[0m \u001b[1;33m=\u001b[0m \u001b[1;33m[\u001b[0m\u001b[1;33m*\u001b[0m\u001b[0mself\u001b[0m\u001b[1;33m.\u001b[0m\u001b[0m_get_lines\u001b[0m\u001b[1;33m(\u001b[0m\u001b[1;33m*\u001b[0m\u001b[0margs\u001b[0m\u001b[1;33m,\u001b[0m \u001b[0mdata\u001b[0m\u001b[1;33m=\u001b[0m\u001b[0mdata\u001b[0m\u001b[1;33m,\u001b[0m \u001b[1;33m**\u001b[0m\u001b[0mkwargs\u001b[0m\u001b[1;33m)\u001b[0m\u001b[1;33m]\u001b[0m\u001b[1;33m\u001b[0m\u001b[1;33m\u001b[0m\u001b[0m\n\u001b[0m\u001b[0;32m   1744\u001b[0m         \u001b[1;32mfor\u001b[0m \u001b[0mline\u001b[0m \u001b[1;32min\u001b[0m \u001b[0mlines\u001b[0m\u001b[1;33m:\u001b[0m\u001b[1;33m\u001b[0m\u001b[1;33m\u001b[0m\u001b[0m\n\u001b[0;32m   1745\u001b[0m             \u001b[0mself\u001b[0m\u001b[1;33m.\u001b[0m\u001b[0madd_line\u001b[0m\u001b[1;33m(\u001b[0m\u001b[0mline\u001b[0m\u001b[1;33m)\u001b[0m\u001b[1;33m\u001b[0m\u001b[1;33m\u001b[0m\u001b[0m\n",
      "\u001b[1;32m~\\anaconda3\\lib\\site-packages\\matplotlib\\axes\\_base.py\u001b[0m in \u001b[0;36m__call__\u001b[1;34m(self, data, *args, **kwargs)\u001b[0m\n\u001b[0;32m    271\u001b[0m                 \u001b[0mthis\u001b[0m \u001b[1;33m+=\u001b[0m \u001b[0margs\u001b[0m\u001b[1;33m[\u001b[0m\u001b[1;36m0\u001b[0m\u001b[1;33m]\u001b[0m\u001b[1;33m,\u001b[0m\u001b[1;33m\u001b[0m\u001b[1;33m\u001b[0m\u001b[0m\n\u001b[0;32m    272\u001b[0m                 \u001b[0margs\u001b[0m \u001b[1;33m=\u001b[0m \u001b[0margs\u001b[0m\u001b[1;33m[\u001b[0m\u001b[1;36m1\u001b[0m\u001b[1;33m:\u001b[0m\u001b[1;33m]\u001b[0m\u001b[1;33m\u001b[0m\u001b[1;33m\u001b[0m\u001b[0m\n\u001b[1;32m--> 273\u001b[1;33m             \u001b[1;32myield\u001b[0m \u001b[1;32mfrom\u001b[0m \u001b[0mself\u001b[0m\u001b[1;33m.\u001b[0m\u001b[0m_plot_args\u001b[0m\u001b[1;33m(\u001b[0m\u001b[0mthis\u001b[0m\u001b[1;33m,\u001b[0m \u001b[0mkwargs\u001b[0m\u001b[1;33m)\u001b[0m\u001b[1;33m\u001b[0m\u001b[1;33m\u001b[0m\u001b[0m\n\u001b[0m\u001b[0;32m    274\u001b[0m \u001b[1;33m\u001b[0m\u001b[0m\n\u001b[0;32m    275\u001b[0m     \u001b[1;32mdef\u001b[0m \u001b[0mget_next_color\u001b[0m\u001b[1;33m(\u001b[0m\u001b[0mself\u001b[0m\u001b[1;33m)\u001b[0m\u001b[1;33m:\u001b[0m\u001b[1;33m\u001b[0m\u001b[1;33m\u001b[0m\u001b[0m\n",
      "\u001b[1;32m~\\anaconda3\\lib\\site-packages\\matplotlib\\axes\\_base.py\u001b[0m in \u001b[0;36m_plot_args\u001b[1;34m(self, tup, kwargs)\u001b[0m\n\u001b[0;32m    387\u001b[0m         \u001b[1;32mif\u001b[0m \u001b[0mlen\u001b[0m\u001b[1;33m(\u001b[0m\u001b[0mtup\u001b[0m\u001b[1;33m)\u001b[0m \u001b[1;33m==\u001b[0m \u001b[1;36m2\u001b[0m\u001b[1;33m:\u001b[0m\u001b[1;33m\u001b[0m\u001b[1;33m\u001b[0m\u001b[0m\n\u001b[0;32m    388\u001b[0m             \u001b[0mx\u001b[0m \u001b[1;33m=\u001b[0m \u001b[0m_check_1d\u001b[0m\u001b[1;33m(\u001b[0m\u001b[0mtup\u001b[0m\u001b[1;33m[\u001b[0m\u001b[1;36m0\u001b[0m\u001b[1;33m]\u001b[0m\u001b[1;33m)\u001b[0m\u001b[1;33m\u001b[0m\u001b[1;33m\u001b[0m\u001b[0m\n\u001b[1;32m--> 389\u001b[1;33m             \u001b[0my\u001b[0m \u001b[1;33m=\u001b[0m \u001b[0m_check_1d\u001b[0m\u001b[1;33m(\u001b[0m\u001b[0mtup\u001b[0m\u001b[1;33m[\u001b[0m\u001b[1;33m-\u001b[0m\u001b[1;36m1\u001b[0m\u001b[1;33m]\u001b[0m\u001b[1;33m)\u001b[0m\u001b[1;33m\u001b[0m\u001b[1;33m\u001b[0m\u001b[0m\n\u001b[0m\u001b[0;32m    390\u001b[0m         \u001b[1;32melse\u001b[0m\u001b[1;33m:\u001b[0m\u001b[1;33m\u001b[0m\u001b[1;33m\u001b[0m\u001b[0m\n\u001b[0;32m    391\u001b[0m             \u001b[0mx\u001b[0m\u001b[1;33m,\u001b[0m \u001b[0my\u001b[0m \u001b[1;33m=\u001b[0m \u001b[0mindex_of\u001b[0m\u001b[1;33m(\u001b[0m\u001b[0mtup\u001b[0m\u001b[1;33m[\u001b[0m\u001b[1;33m-\u001b[0m\u001b[1;36m1\u001b[0m\u001b[1;33m]\u001b[0m\u001b[1;33m)\u001b[0m\u001b[1;33m\u001b[0m\u001b[1;33m\u001b[0m\u001b[0m\n",
      "\u001b[1;32m~\\anaconda3\\lib\\site-packages\\matplotlib\\cbook\\__init__.py\u001b[0m in \u001b[0;36m_check_1d\u001b[1;34m(x)\u001b[0m\n\u001b[0;32m   1316\u001b[0m                     message='Support for multi-dimensional indexing')\n\u001b[0;32m   1317\u001b[0m \u001b[1;33m\u001b[0m\u001b[0m\n\u001b[1;32m-> 1318\u001b[1;33m                 \u001b[0mndim\u001b[0m \u001b[1;33m=\u001b[0m \u001b[0mx\u001b[0m\u001b[1;33m[\u001b[0m\u001b[1;33m:\u001b[0m\u001b[1;33m,\u001b[0m \u001b[1;32mNone\u001b[0m\u001b[1;33m]\u001b[0m\u001b[1;33m.\u001b[0m\u001b[0mndim\u001b[0m\u001b[1;33m\u001b[0m\u001b[1;33m\u001b[0m\u001b[0m\n\u001b[0m\u001b[0;32m   1319\u001b[0m                 \u001b[1;31m# we have definitely hit a pandas index or series object\u001b[0m\u001b[1;33m\u001b[0m\u001b[1;33m\u001b[0m\u001b[1;33m\u001b[0m\u001b[0m\n\u001b[0;32m   1320\u001b[0m                 \u001b[1;31m# cast to a numpy array.\u001b[0m\u001b[1;33m\u001b[0m\u001b[1;33m\u001b[0m\u001b[1;33m\u001b[0m\u001b[0m\n",
      "\u001b[1;32m~\\anaconda3\\lib\\site-packages\\pandas\\core\\series.py\u001b[0m in \u001b[0;36m__getitem__\u001b[1;34m(self, key)\u001b[0m\n\u001b[0;32m   1031\u001b[0m             \u001b[1;32mreturn\u001b[0m \u001b[0mself\u001b[0m\u001b[1;33m.\u001b[0m\u001b[0m_get_values\u001b[0m\u001b[1;33m(\u001b[0m\u001b[0mkey\u001b[0m\u001b[1;33m)\u001b[0m\u001b[1;33m\u001b[0m\u001b[1;33m\u001b[0m\u001b[0m\n\u001b[0;32m   1032\u001b[0m \u001b[1;33m\u001b[0m\u001b[0m\n\u001b[1;32m-> 1033\u001b[1;33m         \u001b[1;32mreturn\u001b[0m \u001b[0mself\u001b[0m\u001b[1;33m.\u001b[0m\u001b[0m_get_with\u001b[0m\u001b[1;33m(\u001b[0m\u001b[0mkey\u001b[0m\u001b[1;33m)\u001b[0m\u001b[1;33m\u001b[0m\u001b[1;33m\u001b[0m\u001b[0m\n\u001b[0m\u001b[0;32m   1034\u001b[0m \u001b[1;33m\u001b[0m\u001b[0m\n\u001b[0;32m   1035\u001b[0m     \u001b[1;32mdef\u001b[0m \u001b[0m_get_with\u001b[0m\u001b[1;33m(\u001b[0m\u001b[0mself\u001b[0m\u001b[1;33m,\u001b[0m \u001b[0mkey\u001b[0m\u001b[1;33m)\u001b[0m\u001b[1;33m:\u001b[0m\u001b[1;33m\u001b[0m\u001b[1;33m\u001b[0m\u001b[0m\n",
      "\u001b[1;32m~\\anaconda3\\lib\\site-packages\\pandas\\core\\series.py\u001b[0m in \u001b[0;36m_get_with\u001b[1;34m(self, key)\u001b[0m\n\u001b[0;32m   1046\u001b[0m             )\n\u001b[0;32m   1047\u001b[0m         \u001b[1;32melif\u001b[0m \u001b[0misinstance\u001b[0m\u001b[1;33m(\u001b[0m\u001b[0mkey\u001b[0m\u001b[1;33m,\u001b[0m \u001b[0mtuple\u001b[0m\u001b[1;33m)\u001b[0m\u001b[1;33m:\u001b[0m\u001b[1;33m\u001b[0m\u001b[1;33m\u001b[0m\u001b[0m\n\u001b[1;32m-> 1048\u001b[1;33m             \u001b[1;32mreturn\u001b[0m \u001b[0mself\u001b[0m\u001b[1;33m.\u001b[0m\u001b[0m_get_values_tuple\u001b[0m\u001b[1;33m(\u001b[0m\u001b[0mkey\u001b[0m\u001b[1;33m)\u001b[0m\u001b[1;33m\u001b[0m\u001b[1;33m\u001b[0m\u001b[0m\n\u001b[0m\u001b[0;32m   1049\u001b[0m \u001b[1;33m\u001b[0m\u001b[0m\n\u001b[0;32m   1050\u001b[0m         \u001b[1;32melif\u001b[0m \u001b[1;32mnot\u001b[0m \u001b[0mis_list_like\u001b[0m\u001b[1;33m(\u001b[0m\u001b[0mkey\u001b[0m\u001b[1;33m)\u001b[0m\u001b[1;33m:\u001b[0m\u001b[1;33m\u001b[0m\u001b[1;33m\u001b[0m\u001b[0m\n",
      "\u001b[1;32m~\\anaconda3\\lib\\site-packages\\pandas\\core\\series.py\u001b[0m in \u001b[0;36m_get_values_tuple\u001b[1;34m(self, key)\u001b[0m\n\u001b[0;32m   1080\u001b[0m             \u001b[1;31m# the asarray is needed to avoid returning a 2D DatetimeArray\u001b[0m\u001b[1;33m\u001b[0m\u001b[1;33m\u001b[0m\u001b[1;33m\u001b[0m\u001b[0m\n\u001b[0;32m   1081\u001b[0m             \u001b[0mresult\u001b[0m \u001b[1;33m=\u001b[0m \u001b[0mnp\u001b[0m\u001b[1;33m.\u001b[0m\u001b[0masarray\u001b[0m\u001b[1;33m(\u001b[0m\u001b[0mself\u001b[0m\u001b[1;33m.\u001b[0m\u001b[0m_values\u001b[0m\u001b[1;33m[\u001b[0m\u001b[0mkey\u001b[0m\u001b[1;33m]\u001b[0m\u001b[1;33m)\u001b[0m\u001b[1;33m\u001b[0m\u001b[1;33m\u001b[0m\u001b[0m\n\u001b[1;32m-> 1082\u001b[1;33m             \u001b[0mdisallow_ndim_indexing\u001b[0m\u001b[1;33m(\u001b[0m\u001b[0mresult\u001b[0m\u001b[1;33m)\u001b[0m\u001b[1;33m\u001b[0m\u001b[1;33m\u001b[0m\u001b[0m\n\u001b[0m\u001b[0;32m   1083\u001b[0m             \u001b[1;32mreturn\u001b[0m \u001b[0mresult\u001b[0m\u001b[1;33m\u001b[0m\u001b[1;33m\u001b[0m\u001b[0m\n\u001b[0;32m   1084\u001b[0m \u001b[1;33m\u001b[0m\u001b[0m\n",
      "\u001b[1;32m~\\anaconda3\\lib\\site-packages\\pandas\\core\\indexers\\utils.py\u001b[0m in \u001b[0;36mdisallow_ndim_indexing\u001b[1;34m(result)\u001b[0m\n\u001b[0;32m    341\u001b[0m     \"\"\"\n\u001b[0;32m    342\u001b[0m     \u001b[1;32mif\u001b[0m \u001b[0mnp\u001b[0m\u001b[1;33m.\u001b[0m\u001b[0mndim\u001b[0m\u001b[1;33m(\u001b[0m\u001b[0mresult\u001b[0m\u001b[1;33m)\u001b[0m \u001b[1;33m>\u001b[0m \u001b[1;36m1\u001b[0m\u001b[1;33m:\u001b[0m\u001b[1;33m\u001b[0m\u001b[1;33m\u001b[0m\u001b[0m\n\u001b[1;32m--> 343\u001b[1;33m         raise ValueError(\n\u001b[0m\u001b[0;32m    344\u001b[0m             \u001b[1;34m\"Multi-dimensional indexing (e.g. `obj[:, None]`) is no longer \"\u001b[0m\u001b[1;33m\u001b[0m\u001b[1;33m\u001b[0m\u001b[0m\n\u001b[0;32m    345\u001b[0m             \u001b[1;34m\"supported. Convert to a numpy array before indexing instead.\"\u001b[0m\u001b[1;33m\u001b[0m\u001b[1;33m\u001b[0m\u001b[0m\n",
      "\u001b[1;31mValueError\u001b[0m: Multi-dimensional indexing (e.g. `obj[:, None]`) is no longer supported. Convert to a numpy array before indexing instead."
     ]
    },
    {
     "data": {
      "image/png": "[encoded data removed]",
      "text/plain": [
       "<Figure size 864x432 with 1 Axes>"
      ]
     },
     "metadata": {
      "needs_background": "light"
     },
     "output_type": "display_data"
    }
   ],
   "source": [
    "plt.figure(figsize=(12,6))\n",
    "plt.plot(data.iloc[split_index:]['fecha'].to_numpy(),y_test,linestyle='--',color='green')\n",
    "plt.plot(data.iloc[split_index:]['fecha'].to_numpy(),y_pred,linestyle='-',color='red')\n",
    "\n",
    "### Problemas con la grafica"
   ]
  },
  {
   "cell_type": "code",
   "execution_count": null,
   "id": "dcdd2a6d",
   "metadata": {},
   "outputs": [],
   "source": [
    "###### Usar 'CO','NOX', 'PM25' y 'SO2' para predecir los 'PM10'"
   ]
  },
  {
   "cell_type": "code",
   "execution_count": 66,
   "id": "c1c0b608",
   "metadata": {},
   "outputs": [],
   "source": [
    "X=data[['PM25','SO2']] #variable independiente\n",
    "y=data['PM10'] #variable dependiente"
   ]
  },
  {
   "cell_type": "code",
   "execution_count": 67,
   "id": "aa13760e",
   "metadata": {},
   "outputs": [],
   "source": [
    "split_index=int(len(data)*0.8)"
   ]
  },
  {
   "cell_type": "code",
   "execution_count": 68,
   "id": "8ee378e2",
   "metadata": {},
   "outputs": [],
   "source": [
    "X_train=X.iloc[:split_index]\n",
    "X_test=X.iloc[split_index:]\n",
    "y_train=y.iloc[:split_index]\n",
    "y_test=y.iloc[split_index:]"
   ]
  },
  {
   "cell_type": "code",
   "execution_count": 69,
   "id": "d966bdf6",
   "metadata": {},
   "outputs": [
    {
     "data": {
      "text/html": [
       "<style>#sk-container-id-3 {color: black;}#sk-container-id-3 pre{padding: 0;}#sk-container-id-3 div.sk-toggleable {background-color: white;}#sk-container-id-3 label.sk-toggleable__label {cursor: pointer;display: block;width: 100%;margin-bottom: 0;padding: 0.3em;box-sizing: border-box;text-align: center;}#sk-container-id-3 label.sk-toggleable__label-arrow:before {content: \"▸\";float: left;margin-right: 0.25em;color: #696969;}#sk-container-id-3 label.sk-toggleable__label-arrow:hover:before {color: black;}#sk-container-id-3 div.sk-estimator:hover label.sk-toggleable__label-arrow:before {color: black;}#sk-container-id-3 div.sk-toggleable__content {max-height: 0;max-width: 0;overflow: hidden;text-align: left;background-color: #f0f8ff;}#sk-container-id-3 div.sk-toggleable__content pre {margin: 0.2em;color: black;border-radius: 0.25em;background-color: #f0f8ff;}#sk-container-id-3 input.sk-toggleable__control:checked~div.sk-toggleable__content {max-height: 200px;max-width: 100%;overflow: auto;}#sk-container-id-3 input.sk-toggleable__control:checked~label.sk-toggleable__label-arrow:before {content: \"▾\";}#sk-container-id-3 div.sk-estimator input.sk-toggleable__control:checked~label.sk-toggleable__label {background-color: #d4ebff;}#sk-container-id-3 div.sk-label input.sk-toggleable__control:checked~label.sk-toggleable__label {background-color: #d4ebff;}#sk-container-id-3 input.sk-hidden--visually {border: 0;clip: rect(1px 1px 1px 1px);clip: rect(1px, 1px, 1px, 1px);height: 1px;margin: -1px;overflow: hidden;padding: 0;position: absolute;width: 1px;}#sk-container-id-3 div.sk-estimator {font-family: monospace;background-color: #f0f8ff;border: 1px dotted black;border-radius: 0.25em;box-sizing: border-box;margin-bottom: 0.5em;}#sk-container-id-3 div.sk-estimator:hover {background-color: #d4ebff;}#sk-container-id-3 div.sk-parallel-item::after {content: \"\";width: 100%;border-bottom: 1px solid gray;flex-grow: 1;}#sk-container-id-3 div.sk-label:hover label.sk-toggleable__label {background-color: #d4ebff;}#sk-container-id-3 div.sk-serial::before {content: \"\";position: absolute;border-left: 1px solid gray;box-sizing: border-box;top: 0;bottom: 0;left: 50%;z-index: 0;}#sk-container-id-3 div.sk-serial {display: flex;flex-direction: column;align-items: center;background-color: white;padding-right: 0.2em;padding-left: 0.2em;position: relative;}#sk-container-id-3 div.sk-item {position: relative;z-index: 1;}#sk-container-id-3 div.sk-parallel {display: flex;align-items: stretch;justify-content: center;background-color: white;position: relative;}#sk-container-id-3 div.sk-item::before, #sk-container-id-3 div.sk-parallel-item::before {content: \"\";position: absolute;border-left: 1px solid gray;box-sizing: border-box;top: 0;bottom: 0;left: 50%;z-index: -1;}#sk-container-id-3 div.sk-parallel-item {display: flex;flex-direction: column;z-index: 1;position: relative;background-color: white;}#sk-container-id-3 div.sk-parallel-item:first-child::after {align-self: flex-end;width: 50%;}#sk-container-id-3 div.sk-parallel-item:last-child::after {align-self: flex-start;width: 50%;}#sk-container-id-3 div.sk-parallel-item:only-child::after {width: 0;}#sk-container-id-3 div.sk-dashed-wrapped {border: 1px dashed gray;margin: 0 0.4em 0.5em 0.4em;box-sizing: border-box;padding-bottom: 0.4em;background-color: white;}#sk-container-id-3 div.sk-label label {font-family: monospace;font-weight: bold;display: inline-block;line-height: 1.2em;}#sk-container-id-3 div.sk-label-container {text-align: center;}#sk-container-id-3 div.sk-container {/* jupyter's `normalize.less` sets `[hidden] { display: none; }` but bootstrap.min.css set `[hidden] { display: none !important; }` so we also need the `!important` here to be able to override the default hidden behavior on the sphinx rendered scikit-learn.org. See: https://github.com/scikit-learn/scikit-learn/issues/21755 */display: inline-block !important;position: relative;}#sk-container-id-3 div.sk-text-repr-fallback {display: none;}</style><div id=\"sk-container-id-3\" class=\"sk-top-container\"><div class=\"sk-text-repr-fallback\"><pre>LinearRegression()</pre><b>In a Jupyter environment, please rerun this cell to show the HTML representation or trust the notebook. <br />On GitHub, the HTML representation is unable to render, please try loading this page with nbviewer.org.</b></div><div class=\"sk-container\" hidden><div class=\"sk-item\"><div class=\"sk-estimator sk-toggleable\"><input class=\"sk-toggleable__control sk-hidden--visually\" id=\"sk-estimator-id-3\" type=\"checkbox\" checked><label for=\"sk-estimator-id-3\" class=\"sk-toggleable__label sk-toggleable__label-arrow\">LinearRegression</label><div class=\"sk-toggleable__content\"><pre>LinearRegression()</pre></div></div></div></div></div>"
      ],
      "text/plain": [
       "LinearRegression()"
      ]
     },
     "execution_count": 69,
     "metadata": {},
     "output_type": "execute_result"
    }
   ],
   "source": [
    "model.fit(X_train,y_train)"
   ]
  },
  {
   "cell_type": "code",
   "execution_count": 70,
   "id": "b1cb0f38",
   "metadata": {},
   "outputs": [],
   "source": [
    "y_pred=model.predict(X_test)"
   ]
  },
  {
   "cell_type": "code",
   "execution_count": 71,
   "id": "302aa75e",
   "metadata": {},
   "outputs": [],
   "source": [
    "coeficientes=pd.DataFrame({\n",
    "    'Variable':X.columns,\n",
    "    'Coeficientes':model.coef_\n",
    "    \n",
    "})"
   ]
  },
  {
   "cell_type": "code",
   "execution_count": 72,
   "id": "5553d039",
   "metadata": {},
   "outputs": [
    {
     "name": "stdout",
     "output_type": "stream",
     "text": [
      "  Variable  Coeficientes\n",
      "0     PM25      1.482419\n",
      "1      SO2      0.380519\n"
     ]
    }
   ],
   "source": [
    "print(coeficientes)"
   ]
  },
  {
   "cell_type": "code",
   "execution_count": 73,
   "id": "989b4e32",
   "metadata": {},
   "outputs": [
    {
     "name": "stdout",
     "output_type": "stream",
     "text": [
      "Intercepto:8.239487895849031\n"
     ]
    }
   ],
   "source": [
    "print(f\"Intercepto:{model.intercept_}\")"
   ]
  },
  {
   "cell_type": "code",
   "execution_count": 74,
   "id": "90d240be",
   "metadata": {},
   "outputs": [],
   "source": [
    "r2=r2_score(y_test,y_pred)"
   ]
  },
  {
   "cell_type": "code",
   "execution_count": 75,
   "id": "8f1e8170",
   "metadata": {},
   "outputs": [
    {
     "data": {
      "text/plain": [
       "0.6366773565846755"
      ]
     },
     "execution_count": 75,
     "metadata": {},
     "output_type": "execute_result"
    }
   ],
   "source": [
    "r2"
   ]
  },
  {
   "cell_type": "code",
   "execution_count": 76,
   "id": "2efb46ef",
   "metadata": {},
   "outputs": [],
   "source": [
    "rmse=mean_squared_error(y_test,y_pred,squared=False)"
   ]
  },
  {
   "cell_type": "code",
   "execution_count": 77,
   "id": "12898fe3",
   "metadata": {},
   "outputs": [
    {
     "data": {
      "text/plain": [
       "8.608912027075915"
      ]
     },
     "execution_count": 77,
     "metadata": {},
     "output_type": "execute_result"
    }
   ],
   "source": [
    "rmse"
   ]
  },
  {
   "cell_type": "code",
   "execution_count": 78,
   "id": "9262c561",
   "metadata": {},
   "outputs": [],
   "source": [
    "mae=mean_absolute_error(y_test,y_pred)"
   ]
  },
  {
   "cell_type": "code",
   "execution_count": 79,
   "id": "5710a9c1",
   "metadata": {},
   "outputs": [
    {
     "data": {
      "text/plain": [
       "6.740677985309806"
      ]
     },
     "execution_count": 79,
     "metadata": {},
     "output_type": "execute_result"
    }
   ],
   "source": [
    "mae"
   ]
  },
  {
   "cell_type": "code",
   "execution_count": 80,
   "id": "42f05f7e",
   "metadata": {},
   "outputs": [
    {
     "data": {
      "text/plain": [
       "array([30.6098527 , 38.54170391, 37.01149031, 24.62779181, 31.0253409 ,\n",
       "       41.17991579, 37.90052852, 26.22302868, 36.41573568, 26.5533258 ,\n",
       "       20.70349723, 18.66781739, 24.49322383, 31.96351721, 29.15520217,\n",
       "       39.11185232, 21.26796798, 32.63029739, 28.36943053, 28.72184318,\n",
       "       36.06669665, 33.2050398 , 25.0496912 , 16.9842077 , 27.94203546,\n",
       "       31.56539932, 49.74208608, 24.71134369, 21.64247763, 40.52973622,\n",
       "       24.33058674, 28.06034427, 27.33695338, 24.08301878, 41.4933282 ,\n",
       "       52.40219761, 43.57708671, 38.27829831, 38.71778287, 31.71950656,\n",
       "       37.45999559, 42.71028103, 39.35432117, 34.0830695 , 31.30427202,\n",
       "       37.90224886, 49.87495893, 47.41772639, 37.13937432, 30.24615917,\n",
       "       31.91176848, 31.36576549, 29.72150366, 34.26029478, 38.08964294,\n",
       "       37.81402366, 25.86265138, 30.58560427, 35.83465644, 33.62807102,\n",
       "       26.04522675, 33.94439497, 47.75167553, 38.03893508, 48.61601727,\n",
       "       51.35255696, 48.48210434, 40.89231702, 33.47681536, 27.5078663 ,\n",
       "       37.94403748, 37.12886963, 38.05740749, 49.44221052, 42.28166235,\n",
       "       52.63402775, 66.82089908, 62.4288357 , 54.47272858, 46.55186555,\n",
       "       38.41401093, 40.75572591, 47.72499428, 50.74985895, 45.78455251,\n",
       "       49.08283779, 48.32213209, 45.53768841, 51.08465705, 48.71649739,\n",
       "       45.17815935, 44.85570452, 70.78923166, 42.87513585, 50.55244355,\n",
       "       50.72497845, 35.66192066, 47.96872473, 50.5410883 , 95.88687794,\n",
       "       39.50408326, 53.28960136, 58.73722497, 50.74984399, 46.43759449,\n",
       "       38.26422474, 41.42678957, 30.92838497, 29.59843081, 24.63950042,\n",
       "       37.87523057, 37.46367635, 42.32875024, 44.35930376, 53.58840325,\n",
       "       36.23391735, 39.98821727, 45.75903859, 46.51204956, 34.38639144,\n",
       "       30.54543079, 43.01151955, 28.91011162, 24.96833687, 30.75728762,\n",
       "       34.04149641, 40.95611177, 32.93836539, 39.23222383, 29.41553283,\n",
       "       26.60100727, 29.00866739, 25.32255707, 25.17811995, 46.13846274,\n",
       "       38.89055401, 39.07028145, 50.49747499, 30.79322943, 24.12572758,\n",
       "       18.84148658, 22.60746956, 31.87371028, 45.05405916, 42.98795519,\n",
       "       29.55693301, 35.31667628, 42.83301773, 51.33104553, 47.12493675,\n",
       "       36.13810274, 39.40915298, 39.82417891, 41.15560149, 50.36799395,\n",
       "       45.05944031, 31.0862025 , 34.64482158, 37.20546742, 41.82568271,\n",
       "       46.78437663, 43.0971655 , 37.23918714, 40.67234806, 40.68704124,\n",
       "       32.25083947, 24.47687369, 29.17188303, 28.87837759, 43.01722957,\n",
       "       39.74772867, 40.20581105, 47.63594212, 44.44308763, 34.87711379,\n",
       "       35.13531007, 47.81858963, 40.90341315, 31.78808146, 29.39855307,\n",
       "       35.16975025, 40.48416094, 40.95896371, 41.34962068, 37.64760059,\n",
       "       43.59571167, 51.61891554, 44.71406974, 47.64156743, 50.37024466,\n",
       "       58.15600598, 54.61456549, 47.13171811, 42.95497298, 57.75743063,\n",
       "       56.10945142, 61.6354984 , 59.75754429, 42.99752889, 44.37713207,\n",
       "       40.56282881, 42.16603244, 48.87300056, 46.83796818, 41.87047386,\n",
       "       32.69421962, 38.98197583, 39.63196664, 34.86270695, 41.28890054,\n",
       "       28.53071296, 40.10776689, 38.2412844 , 30.79567719, 32.51399574,\n",
       "       24.01703192, 37.2844346 , 41.62077271, 45.56470229, 45.87803821,\n",
       "       48.19075844, 53.34802994, 54.04516031, 58.88525268, 54.27805841,\n",
       "       42.26883653, 47.60676921, 44.53529066, 36.77108763, 31.24371795,\n",
       "       28.15814458, 33.60104328, 36.2580858 , 32.9550746 , 31.93835594,\n",
       "       45.40020745, 51.20885868, 50.69650198, 57.13298663, 68.12619649,\n",
       "       59.71006924, 50.65335213, 42.61863601, 49.40403616, 45.40042847,\n",
       "       36.61907853, 29.08788343, 34.42180196, 38.38439635, 37.31081735,\n",
       "       30.49776212, 22.99707103, 29.21782198, 38.80538658, 36.7572115 ,\n",
       "       32.16268371, 40.23166352, 50.75814184, 27.76702877, 30.5329086 ,\n",
       "       29.24113134, 26.74368996, 32.10671644, 31.88439954, 22.58763098,\n",
       "       29.99958717, 29.67275417, 31.91364513, 20.57423699, 22.06120793,\n",
       "       18.43240387, 20.28806459, 27.319723  , 35.83492217, 40.31328714,\n",
       "       32.93570543, 22.40815661, 23.55627736, 28.07544869, 32.74647185,\n",
       "       37.41163511, 36.28182328, 31.08689141, 22.50111183, 23.51137312,\n",
       "       38.76864845, 32.42093927, 32.50842688, 30.31659335, 32.50325537,\n",
       "       34.22529259, 33.37892803, 33.51471476, 27.58680403, 31.70544059,\n",
       "       28.30040188, 29.20419054, 41.5968115 , 38.84676303, 29.08903556,\n",
       "       30.12753024, 37.61263477, 30.32033114, 24.75867289, 27.4708073 ,\n",
       "       26.4682425 , 31.17630715, 35.81498581, 34.97899038, 29.21070384,\n",
       "       25.14964804, 24.04112396, 35.69141941, 33.84050117, 35.1105555 ,\n",
       "       33.94787214, 36.05710184, 27.95008219, 22.40517939, 27.59699514,\n",
       "       30.47629293, 27.32876011, 26.11998271, 32.36502477, 22.78622622,\n",
       "       22.67832423, 22.57100471, 32.53155523, 34.89429746, 43.38444788,\n",
       "       23.28757248, 35.4868285 , 38.54163018, 23.96264667, 39.0855191 ,\n",
       "       28.3261758 , 29.83005397, 45.70472142, 33.88307002, 31.87680353,\n",
       "       24.02144888, 31.69702464, 23.71304664, 19.6922116 , 19.68887393,\n",
       "       19.62138234, 15.82135106, 27.89218649, 24.05760889, 21.60603916,\n",
       "       32.10356452, 32.54734848, 25.63610258, 24.51016634, 27.55331079,\n",
       "       27.40180606, 24.34017012, 25.40430822, 24.52809586, 24.43583557,\n",
       "       23.83086351, 22.10125697, 21.07103286, 19.32715112, 23.4443567 ,\n",
       "       32.10580273, 28.25163864, 18.18939211, 18.48418864, 17.1209751 ,\n",
       "       20.53678497, 33.94371541, 45.62205257, 43.99823858, 47.72581121,\n",
       "       42.91023435, 44.0436499 , 34.79980304, 29.44891952, 19.4538334 ,\n",
       "       16.10440449, 19.19245527, 25.22846677, 26.41419426, 26.82306537,\n",
       "       33.81736462, 36.92835059, 37.98024287, 37.94197282, 22.24543089,\n",
       "       19.28387898, 31.97523515, 45.20988405, 46.92325282, 45.30850497,\n",
       "       50.17914467, 52.24943166, 50.31423661, 58.4387385 , 55.27569908,\n",
       "       49.63642071, 48.16388259, 40.86753744, 52.14846067, 46.03548937,\n",
       "       50.70186939, 45.82846407, 50.68841842, 49.23600473, 30.0328329 ,\n",
       "       22.71433182, 31.11953352, 35.46065593, 49.54866612, 66.75031271,\n",
       "       49.67890848, 41.07661332, 48.03040474, 46.59686192, 44.14792984,\n",
       "       38.58282715, 47.57397701, 54.17493241, 37.19621801, 49.17652831,\n",
       "       57.96553341, 57.07289436, 44.85588615, 30.52278765, 36.19053691,\n",
       "       41.22946038, 52.27824152, 36.92382051, 29.91165801, 43.0625421 ,\n",
       "       42.73184052, 24.26968721, 38.28984712, 47.06184723, 46.1093928 ,\n",
       "       51.24499458, 61.45210158, 44.72323391, 37.92296562, 45.16977645,\n",
       "       52.47558782, 43.30033745, 46.9708945 , 48.43841944, 48.00085581,\n",
       "       52.10213431, 52.10371936, 53.52846339, 33.556906  , 49.27664609,\n",
       "       47.31481834, 49.21801868, 65.35995985, 37.91107432, 40.30825234,\n",
       "       40.17191226, 33.49016397, 33.22918106, 32.32741746, 94.90402041,\n",
       "       25.63962851, 25.72686458, 42.05305028, 42.65986453, 43.76904779,\n",
       "       46.41689811, 39.23174204, 51.13313629, 51.45629693, 51.08209742,\n",
       "       48.1535819 , 32.71472024, 43.85265235, 47.37437369, 57.38845365,\n",
       "       53.96829043, 48.38162923, 55.38411431, 61.84594414, 48.4537311 ,\n",
       "       42.9246917 , 32.65321158, 28.64485454, 42.42285647, 42.6031854 ,\n",
       "       43.17607297, 41.24840929, 45.41039583, 47.37203795, 41.21697106,\n",
       "       49.88804381, 40.42264041, 37.06240201, 43.81943089, 32.57235651,\n",
       "       36.49068072, 43.78978325, 50.99350163, 50.02289589, 50.47678563,\n",
       "       40.56057731, 49.30524149, 42.41043614, 32.09130778, 29.57568436,\n",
       "       35.74945925, 52.98333445, 40.91792336, 31.6379417 , 38.44160089,\n",
       "       34.15804088, 29.1424941 , 43.79274228, 48.15290192, 46.30845033,\n",
       "       37.31244504, 35.19261735, 39.17392706, 44.96253913, 43.35888372,\n",
       "       37.65963797, 40.03980981, 45.88531155, 42.6536973 , 37.62413136,\n",
       "       42.70291127, 41.00136118, 39.61700706, 44.01705108, 39.61994602,\n",
       "       37.54272268, 37.37967632, 35.5788337 , 27.13936939, 32.57184775,\n",
       "       29.30953834, 38.75083789, 28.61949866, 32.61870082, 41.55032442,\n",
       "       36.79289938, 44.53214035, 49.04954657, 49.86915954, 52.73046726,\n",
       "       50.47126449, 47.51844618, 40.77448903, 48.93946022, 49.05347387,\n",
       "       49.0541466 , 50.63149629, 50.37333747, 49.7541397 , 48.86503533,\n",
       "       38.96127812, 45.19178638, 39.12803369, 38.16146045, 31.75070638,\n",
       "       25.31734413, 31.20246571, 35.9100224 , 34.09231542, 35.91371405,\n",
       "       33.24128038, 37.00812671, 42.9751262 , 45.71488354, 35.0276581 ,\n",
       "       35.86574661, 35.13939848, 37.30602485, 33.4701662 , 44.51028585,\n",
       "       58.26948722, 45.25928335, 45.48959433, 41.89455427, 41.83285885,\n",
       "       47.55794753, 58.44524902, 55.59611862, 64.28192637, 57.60796917,\n",
       "       39.77138236, 37.39594409, 39.07280343, 43.6636228 , 45.71199512,\n",
       "       45.8200333 , 42.93943477, 36.35856178, 28.40868522, 41.37303144,\n",
       "       43.92330757, 41.24189792, 44.76724304, 40.95393193, 33.09412803,\n",
       "       43.42826207, 49.28320688, 44.63139096, 45.27405418, 39.12101474,\n",
       "       40.66347649, 36.48455897, 33.39305039, 39.65473054, 45.51786172])"
      ]
     },
     "execution_count": 80,
     "metadata": {},
     "output_type": "execute_result"
    }
   ],
   "source": [
    "y_pred"
   ]
  },
  {
   "cell_type": "code",
   "execution_count": 81,
   "id": "b46fd656",
   "metadata": {},
   "outputs": [],
   "source": [
    "residuos=y_test-y_pred"
   ]
  },
  {
   "cell_type": "code",
   "execution_count": 82,
   "id": "d7c24a54",
   "metadata": {},
   "outputs": [
    {
     "data": {
      "text/plain": [
       "Text(0, 0.5, 'Frecuencia')"
      ]
     },
     "execution_count": 82,
     "metadata": {},
     "output_type": "execute_result"
    },
    {
     "data": {
      "image/png": "[encoded data removed]",
      "text/plain": [
       "<Figure size 432x288 with 1 Axes>"
      ]
     },
     "metadata": {
      "needs_background": "light"
     },
     "output_type": "display_data"
    }
   ],
   "source": [
    "plt.hist(residuos,bins=15,color='gray',alpha=0.7)\n",
    "plt.title('Distribucion de residuos')\n",
    "plt.xlabel('Residuos')\n",
    "plt.ylabel('Frecuencia')"
   ]
  },
  {
   "cell_type": "code",
   "execution_count": 83,
   "id": "7fb16705",
   "metadata": {},
   "outputs": [
    {
     "ename": "ValueError",
     "evalue": "Multi-dimensional indexing (e.g. `obj[:, None]`) is no longer supported. Convert to a numpy array before indexing instead.",
     "output_type": "error",
     "traceback": [
      "\u001b[1;31m---------------------------------------------------------------------------\u001b[0m",
      "\u001b[1;31mValueError\u001b[0m                                Traceback (most recent call last)",
      "\u001b[1;32m<ipython-input-83-cb02accdf1d9>\u001b[0m in \u001b[0;36m<module>\u001b[1;34m\u001b[0m\n\u001b[0;32m      1\u001b[0m \u001b[0mplt\u001b[0m\u001b[1;33m.\u001b[0m\u001b[0mfigure\u001b[0m\u001b[1;33m(\u001b[0m\u001b[0mfigsize\u001b[0m\u001b[1;33m=\u001b[0m\u001b[1;33m(\u001b[0m\u001b[1;36m12\u001b[0m\u001b[1;33m,\u001b[0m\u001b[1;36m6\u001b[0m\u001b[1;33m)\u001b[0m\u001b[1;33m)\u001b[0m\u001b[1;33m\u001b[0m\u001b[1;33m\u001b[0m\u001b[0m\n\u001b[1;32m----> 2\u001b[1;33m \u001b[0mplt\u001b[0m\u001b[1;33m.\u001b[0m\u001b[0mplot\u001b[0m\u001b[1;33m(\u001b[0m\u001b[0mdata\u001b[0m\u001b[1;33m.\u001b[0m\u001b[0miloc\u001b[0m\u001b[1;33m[\u001b[0m\u001b[0msplit_index\u001b[0m\u001b[1;33m:\u001b[0m\u001b[1;33m]\u001b[0m\u001b[1;33m[\u001b[0m\u001b[1;34m'fecha'\u001b[0m\u001b[1;33m]\u001b[0m\u001b[1;33m.\u001b[0m\u001b[0mto_numpy\u001b[0m\u001b[1;33m(\u001b[0m\u001b[1;33m)\u001b[0m\u001b[1;33m,\u001b[0m\u001b[0my_test\u001b[0m\u001b[1;33m,\u001b[0m\u001b[0mlinestyle\u001b[0m\u001b[1;33m=\u001b[0m\u001b[1;34m'--'\u001b[0m\u001b[1;33m,\u001b[0m\u001b[0mcolor\u001b[0m\u001b[1;33m=\u001b[0m\u001b[1;34m'green'\u001b[0m\u001b[1;33m)\u001b[0m\u001b[1;33m\u001b[0m\u001b[1;33m\u001b[0m\u001b[0m\n\u001b[0m\u001b[0;32m      3\u001b[0m \u001b[0mplt\u001b[0m\u001b[1;33m.\u001b[0m\u001b[0mplot\u001b[0m\u001b[1;33m(\u001b[0m\u001b[0mdata\u001b[0m\u001b[1;33m.\u001b[0m\u001b[0miloc\u001b[0m\u001b[1;33m[\u001b[0m\u001b[0msplit_index\u001b[0m\u001b[1;33m:\u001b[0m\u001b[1;33m]\u001b[0m\u001b[1;33m[\u001b[0m\u001b[1;34m'fecha'\u001b[0m\u001b[1;33m]\u001b[0m\u001b[1;33m.\u001b[0m\u001b[0mto_numpy\u001b[0m\u001b[1;33m(\u001b[0m\u001b[1;33m)\u001b[0m\u001b[1;33m,\u001b[0m\u001b[0my_pred\u001b[0m\u001b[1;33m,\u001b[0m\u001b[0mlinestyle\u001b[0m\u001b[1;33m=\u001b[0m\u001b[1;34m'-'\u001b[0m\u001b[1;33m,\u001b[0m\u001b[0mcolor\u001b[0m\u001b[1;33m=\u001b[0m\u001b[1;34m'red'\u001b[0m\u001b[1;33m)\u001b[0m\u001b[1;33m\u001b[0m\u001b[1;33m\u001b[0m\u001b[0m\n",
      "\u001b[1;32m~\\anaconda3\\lib\\site-packages\\matplotlib\\pyplot.py\u001b[0m in \u001b[0;36mplot\u001b[1;34m(scalex, scaley, data, *args, **kwargs)\u001b[0m\n\u001b[0;32m   2838\u001b[0m \u001b[1;33m@\u001b[0m\u001b[0m_copy_docstring_and_deprecators\u001b[0m\u001b[1;33m(\u001b[0m\u001b[0mAxes\u001b[0m\u001b[1;33m.\u001b[0m\u001b[0mplot\u001b[0m\u001b[1;33m)\u001b[0m\u001b[1;33m\u001b[0m\u001b[1;33m\u001b[0m\u001b[0m\n\u001b[0;32m   2839\u001b[0m \u001b[1;32mdef\u001b[0m \u001b[0mplot\u001b[0m\u001b[1;33m(\u001b[0m\u001b[1;33m*\u001b[0m\u001b[0margs\u001b[0m\u001b[1;33m,\u001b[0m \u001b[0mscalex\u001b[0m\u001b[1;33m=\u001b[0m\u001b[1;32mTrue\u001b[0m\u001b[1;33m,\u001b[0m \u001b[0mscaley\u001b[0m\u001b[1;33m=\u001b[0m\u001b[1;32mTrue\u001b[0m\u001b[1;33m,\u001b[0m \u001b[0mdata\u001b[0m\u001b[1;33m=\u001b[0m\u001b[1;32mNone\u001b[0m\u001b[1;33m,\u001b[0m \u001b[1;33m**\u001b[0m\u001b[0mkwargs\u001b[0m\u001b[1;33m)\u001b[0m\u001b[1;33m:\u001b[0m\u001b[1;33m\u001b[0m\u001b[1;33m\u001b[0m\u001b[0m\n\u001b[1;32m-> 2840\u001b[1;33m     return gca().plot(\n\u001b[0m\u001b[0;32m   2841\u001b[0m         \u001b[1;33m*\u001b[0m\u001b[0margs\u001b[0m\u001b[1;33m,\u001b[0m \u001b[0mscalex\u001b[0m\u001b[1;33m=\u001b[0m\u001b[0mscalex\u001b[0m\u001b[1;33m,\u001b[0m \u001b[0mscaley\u001b[0m\u001b[1;33m=\u001b[0m\u001b[0mscaley\u001b[0m\u001b[1;33m,\u001b[0m\u001b[1;33m\u001b[0m\u001b[1;33m\u001b[0m\u001b[0m\n\u001b[0;32m   2842\u001b[0m         **({\"data\": data} if data is not None else {}), **kwargs)\n",
      "\u001b[1;32m~\\anaconda3\\lib\\site-packages\\matplotlib\\axes\\_axes.py\u001b[0m in \u001b[0;36mplot\u001b[1;34m(self, scalex, scaley, data, *args, **kwargs)\u001b[0m\n\u001b[0;32m   1741\u001b[0m         \"\"\"\n\u001b[0;32m   1742\u001b[0m         \u001b[0mkwargs\u001b[0m \u001b[1;33m=\u001b[0m \u001b[0mcbook\u001b[0m\u001b[1;33m.\u001b[0m\u001b[0mnormalize_kwargs\u001b[0m\u001b[1;33m(\u001b[0m\u001b[0mkwargs\u001b[0m\u001b[1;33m,\u001b[0m \u001b[0mmlines\u001b[0m\u001b[1;33m.\u001b[0m\u001b[0mLine2D\u001b[0m\u001b[1;33m)\u001b[0m\u001b[1;33m\u001b[0m\u001b[1;33m\u001b[0m\u001b[0m\n\u001b[1;32m-> 1743\u001b[1;33m         \u001b[0mlines\u001b[0m \u001b[1;33m=\u001b[0m \u001b[1;33m[\u001b[0m\u001b[1;33m*\u001b[0m\u001b[0mself\u001b[0m\u001b[1;33m.\u001b[0m\u001b[0m_get_lines\u001b[0m\u001b[1;33m(\u001b[0m\u001b[1;33m*\u001b[0m\u001b[0margs\u001b[0m\u001b[1;33m,\u001b[0m \u001b[0mdata\u001b[0m\u001b[1;33m=\u001b[0m\u001b[0mdata\u001b[0m\u001b[1;33m,\u001b[0m \u001b[1;33m**\u001b[0m\u001b[0mkwargs\u001b[0m\u001b[1;33m)\u001b[0m\u001b[1;33m]\u001b[0m\u001b[1;33m\u001b[0m\u001b[1;33m\u001b[0m\u001b[0m\n\u001b[0m\u001b[0;32m   1744\u001b[0m         \u001b[1;32mfor\u001b[0m \u001b[0mline\u001b[0m \u001b[1;32min\u001b[0m \u001b[0mlines\u001b[0m\u001b[1;33m:\u001b[0m\u001b[1;33m\u001b[0m\u001b[1;33m\u001b[0m\u001b[0m\n\u001b[0;32m   1745\u001b[0m             \u001b[0mself\u001b[0m\u001b[1;33m.\u001b[0m\u001b[0madd_line\u001b[0m\u001b[1;33m(\u001b[0m\u001b[0mline\u001b[0m\u001b[1;33m)\u001b[0m\u001b[1;33m\u001b[0m\u001b[1;33m\u001b[0m\u001b[0m\n",
      "\u001b[1;32m~\\anaconda3\\lib\\site-packages\\matplotlib\\axes\\_base.py\u001b[0m in \u001b[0;36m__call__\u001b[1;34m(self, data, *args, **kwargs)\u001b[0m\n\u001b[0;32m    271\u001b[0m                 \u001b[0mthis\u001b[0m \u001b[1;33m+=\u001b[0m \u001b[0margs\u001b[0m\u001b[1;33m[\u001b[0m\u001b[1;36m0\u001b[0m\u001b[1;33m]\u001b[0m\u001b[1;33m,\u001b[0m\u001b[1;33m\u001b[0m\u001b[1;33m\u001b[0m\u001b[0m\n\u001b[0;32m    272\u001b[0m                 \u001b[0margs\u001b[0m \u001b[1;33m=\u001b[0m \u001b[0margs\u001b[0m\u001b[1;33m[\u001b[0m\u001b[1;36m1\u001b[0m\u001b[1;33m:\u001b[0m\u001b[1;33m]\u001b[0m\u001b[1;33m\u001b[0m\u001b[1;33m\u001b[0m\u001b[0m\n\u001b[1;32m--> 273\u001b[1;33m             \u001b[1;32myield\u001b[0m \u001b[1;32mfrom\u001b[0m \u001b[0mself\u001b[0m\u001b[1;33m.\u001b[0m\u001b[0m_plot_args\u001b[0m\u001b[1;33m(\u001b[0m\u001b[0mthis\u001b[0m\u001b[1;33m,\u001b[0m \u001b[0mkwargs\u001b[0m\u001b[1;33m)\u001b[0m\u001b[1;33m\u001b[0m\u001b[1;33m\u001b[0m\u001b[0m\n\u001b[0m\u001b[0;32m    274\u001b[0m \u001b[1;33m\u001b[0m\u001b[0m\n\u001b[0;32m    275\u001b[0m     \u001b[1;32mdef\u001b[0m \u001b[0mget_next_color\u001b[0m\u001b[1;33m(\u001b[0m\u001b[0mself\u001b[0m\u001b[1;33m)\u001b[0m\u001b[1;33m:\u001b[0m\u001b[1;33m\u001b[0m\u001b[1;33m\u001b[0m\u001b[0m\n",
      "\u001b[1;32m~\\anaconda3\\lib\\site-packages\\matplotlib\\axes\\_base.py\u001b[0m in \u001b[0;36m_plot_args\u001b[1;34m(self, tup, kwargs)\u001b[0m\n\u001b[0;32m    387\u001b[0m         \u001b[1;32mif\u001b[0m \u001b[0mlen\u001b[0m\u001b[1;33m(\u001b[0m\u001b[0mtup\u001b[0m\u001b[1;33m)\u001b[0m \u001b[1;33m==\u001b[0m \u001b[1;36m2\u001b[0m\u001b[1;33m:\u001b[0m\u001b[1;33m\u001b[0m\u001b[1;33m\u001b[0m\u001b[0m\n\u001b[0;32m    388\u001b[0m             \u001b[0mx\u001b[0m \u001b[1;33m=\u001b[0m \u001b[0m_check_1d\u001b[0m\u001b[1;33m(\u001b[0m\u001b[0mtup\u001b[0m\u001b[1;33m[\u001b[0m\u001b[1;36m0\u001b[0m\u001b[1;33m]\u001b[0m\u001b[1;33m)\u001b[0m\u001b[1;33m\u001b[0m\u001b[1;33m\u001b[0m\u001b[0m\n\u001b[1;32m--> 389\u001b[1;33m             \u001b[0my\u001b[0m \u001b[1;33m=\u001b[0m \u001b[0m_check_1d\u001b[0m\u001b[1;33m(\u001b[0m\u001b[0mtup\u001b[0m\u001b[1;33m[\u001b[0m\u001b[1;33m-\u001b[0m\u001b[1;36m1\u001b[0m\u001b[1;33m]\u001b[0m\u001b[1;33m)\u001b[0m\u001b[1;33m\u001b[0m\u001b[1;33m\u001b[0m\u001b[0m\n\u001b[0m\u001b[0;32m    390\u001b[0m         \u001b[1;32melse\u001b[0m\u001b[1;33m:\u001b[0m\u001b[1;33m\u001b[0m\u001b[1;33m\u001b[0m\u001b[0m\n\u001b[0;32m    391\u001b[0m             \u001b[0mx\u001b[0m\u001b[1;33m,\u001b[0m \u001b[0my\u001b[0m \u001b[1;33m=\u001b[0m \u001b[0mindex_of\u001b[0m\u001b[1;33m(\u001b[0m\u001b[0mtup\u001b[0m\u001b[1;33m[\u001b[0m\u001b[1;33m-\u001b[0m\u001b[1;36m1\u001b[0m\u001b[1;33m]\u001b[0m\u001b[1;33m)\u001b[0m\u001b[1;33m\u001b[0m\u001b[1;33m\u001b[0m\u001b[0m\n",
      "\u001b[1;32m~\\anaconda3\\lib\\site-packages\\matplotlib\\cbook\\__init__.py\u001b[0m in \u001b[0;36m_check_1d\u001b[1;34m(x)\u001b[0m\n\u001b[0;32m   1316\u001b[0m                     message='Support for multi-dimensional indexing')\n\u001b[0;32m   1317\u001b[0m \u001b[1;33m\u001b[0m\u001b[0m\n\u001b[1;32m-> 1318\u001b[1;33m                 \u001b[0mndim\u001b[0m \u001b[1;33m=\u001b[0m \u001b[0mx\u001b[0m\u001b[1;33m[\u001b[0m\u001b[1;33m:\u001b[0m\u001b[1;33m,\u001b[0m \u001b[1;32mNone\u001b[0m\u001b[1;33m]\u001b[0m\u001b[1;33m.\u001b[0m\u001b[0mndim\u001b[0m\u001b[1;33m\u001b[0m\u001b[1;33m\u001b[0m\u001b[0m\n\u001b[0m\u001b[0;32m   1319\u001b[0m                 \u001b[1;31m# we have definitely hit a pandas index or series object\u001b[0m\u001b[1;33m\u001b[0m\u001b[1;33m\u001b[0m\u001b[1;33m\u001b[0m\u001b[0m\n\u001b[0;32m   1320\u001b[0m                 \u001b[1;31m# cast to a numpy array.\u001b[0m\u001b[1;33m\u001b[0m\u001b[1;33m\u001b[0m\u001b[1;33m\u001b[0m\u001b[0m\n",
      "\u001b[1;32m~\\anaconda3\\lib\\site-packages\\pandas\\core\\series.py\u001b[0m in \u001b[0;36m__getitem__\u001b[1;34m(self, key)\u001b[0m\n\u001b[0;32m   1031\u001b[0m             \u001b[1;32mreturn\u001b[0m \u001b[0mself\u001b[0m\u001b[1;33m.\u001b[0m\u001b[0m_get_values\u001b[0m\u001b[1;33m(\u001b[0m\u001b[0mkey\u001b[0m\u001b[1;33m)\u001b[0m\u001b[1;33m\u001b[0m\u001b[1;33m\u001b[0m\u001b[0m\n\u001b[0;32m   1032\u001b[0m \u001b[1;33m\u001b[0m\u001b[0m\n\u001b[1;32m-> 1033\u001b[1;33m         \u001b[1;32mreturn\u001b[0m \u001b[0mself\u001b[0m\u001b[1;33m.\u001b[0m\u001b[0m_get_with\u001b[0m\u001b[1;33m(\u001b[0m\u001b[0mkey\u001b[0m\u001b[1;33m)\u001b[0m\u001b[1;33m\u001b[0m\u001b[1;33m\u001b[0m\u001b[0m\n\u001b[0m\u001b[0;32m   1034\u001b[0m \u001b[1;33m\u001b[0m\u001b[0m\n\u001b[0;32m   1035\u001b[0m     \u001b[1;32mdef\u001b[0m \u001b[0m_get_with\u001b[0m\u001b[1;33m(\u001b[0m\u001b[0mself\u001b[0m\u001b[1;33m,\u001b[0m \u001b[0mkey\u001b[0m\u001b[1;33m)\u001b[0m\u001b[1;33m:\u001b[0m\u001b[1;33m\u001b[0m\u001b[1;33m\u001b[0m\u001b[0m\n",
      "\u001b[1;32m~\\anaconda3\\lib\\site-packages\\pandas\\core\\series.py\u001b[0m in \u001b[0;36m_get_with\u001b[1;34m(self, key)\u001b[0m\n\u001b[0;32m   1046\u001b[0m             )\n\u001b[0;32m   1047\u001b[0m         \u001b[1;32melif\u001b[0m \u001b[0misinstance\u001b[0m\u001b[1;33m(\u001b[0m\u001b[0mkey\u001b[0m\u001b[1;33m,\u001b[0m \u001b[0mtuple\u001b[0m\u001b[1;33m)\u001b[0m\u001b[1;33m:\u001b[0m\u001b[1;33m\u001b[0m\u001b[1;33m\u001b[0m\u001b[0m\n\u001b[1;32m-> 1048\u001b[1;33m             \u001b[1;32mreturn\u001b[0m \u001b[0mself\u001b[0m\u001b[1;33m.\u001b[0m\u001b[0m_get_values_tuple\u001b[0m\u001b[1;33m(\u001b[0m\u001b[0mkey\u001b[0m\u001b[1;33m)\u001b[0m\u001b[1;33m\u001b[0m\u001b[1;33m\u001b[0m\u001b[0m\n\u001b[0m\u001b[0;32m   1049\u001b[0m \u001b[1;33m\u001b[0m\u001b[0m\n\u001b[0;32m   1050\u001b[0m         \u001b[1;32melif\u001b[0m \u001b[1;32mnot\u001b[0m \u001b[0mis_list_like\u001b[0m\u001b[1;33m(\u001b[0m\u001b[0mkey\u001b[0m\u001b[1;33m)\u001b[0m\u001b[1;33m:\u001b[0m\u001b[1;33m\u001b[0m\u001b[1;33m\u001b[0m\u001b[0m\n",
      "\u001b[1;32m~\\anaconda3\\lib\\site-packages\\pandas\\core\\series.py\u001b[0m in \u001b[0;36m_get_values_tuple\u001b[1;34m(self, key)\u001b[0m\n\u001b[0;32m   1080\u001b[0m             \u001b[1;31m# the asarray is needed to avoid returning a 2D DatetimeArray\u001b[0m\u001b[1;33m\u001b[0m\u001b[1;33m\u001b[0m\u001b[1;33m\u001b[0m\u001b[0m\n\u001b[0;32m   1081\u001b[0m             \u001b[0mresult\u001b[0m \u001b[1;33m=\u001b[0m \u001b[0mnp\u001b[0m\u001b[1;33m.\u001b[0m\u001b[0masarray\u001b[0m\u001b[1;33m(\u001b[0m\u001b[0mself\u001b[0m\u001b[1;33m.\u001b[0m\u001b[0m_values\u001b[0m\u001b[1;33m[\u001b[0m\u001b[0mkey\u001b[0m\u001b[1;33m]\u001b[0m\u001b[1;33m)\u001b[0m\u001b[1;33m\u001b[0m\u001b[1;33m\u001b[0m\u001b[0m\n\u001b[1;32m-> 1082\u001b[1;33m             \u001b[0mdisallow_ndim_indexing\u001b[0m\u001b[1;33m(\u001b[0m\u001b[0mresult\u001b[0m\u001b[1;33m)\u001b[0m\u001b[1;33m\u001b[0m\u001b[1;33m\u001b[0m\u001b[0m\n\u001b[0m\u001b[0;32m   1083\u001b[0m             \u001b[1;32mreturn\u001b[0m \u001b[0mresult\u001b[0m\u001b[1;33m\u001b[0m\u001b[1;33m\u001b[0m\u001b[0m\n\u001b[0;32m   1084\u001b[0m \u001b[1;33m\u001b[0m\u001b[0m\n",
      "\u001b[1;32m~\\anaconda3\\lib\\site-packages\\pandas\\core\\indexers\\utils.py\u001b[0m in \u001b[0;36mdisallow_ndim_indexing\u001b[1;34m(result)\u001b[0m\n\u001b[0;32m    341\u001b[0m     \"\"\"\n\u001b[0;32m    342\u001b[0m     \u001b[1;32mif\u001b[0m \u001b[0mnp\u001b[0m\u001b[1;33m.\u001b[0m\u001b[0mndim\u001b[0m\u001b[1;33m(\u001b[0m\u001b[0mresult\u001b[0m\u001b[1;33m)\u001b[0m \u001b[1;33m>\u001b[0m \u001b[1;36m1\u001b[0m\u001b[1;33m:\u001b[0m\u001b[1;33m\u001b[0m\u001b[1;33m\u001b[0m\u001b[0m\n\u001b[1;32m--> 343\u001b[1;33m         raise ValueError(\n\u001b[0m\u001b[0;32m    344\u001b[0m             \u001b[1;34m\"Multi-dimensional indexing (e.g. `obj[:, None]`) is no longer \"\u001b[0m\u001b[1;33m\u001b[0m\u001b[1;33m\u001b[0m\u001b[0m\n\u001b[0;32m    345\u001b[0m             \u001b[1;34m\"supported. Convert to a numpy array before indexing instead.\"\u001b[0m\u001b[1;33m\u001b[0m\u001b[1;33m\u001b[0m\u001b[0m\n",
      "\u001b[1;31mValueError\u001b[0m: Multi-dimensional indexing (e.g. `obj[:, None]`) is no longer supported. Convert to a numpy array before indexing instead."
     ]
    },
    {
     "data": {
      "image/png": "[encoded data removed]",
      "text/plain": [
       "<Figure size 864x432 with 1 Axes>"
      ]
     },
     "metadata": {
      "needs_background": "light"
     },
     "output_type": "display_data"
    }
   ],
   "source": [
    "plt.figure(figsize=(12,6))\n",
    "plt.plot(data.iloc[split_index:]['fecha'].to_numpy(),y_test,linestyle='--',color='green')\n",
    "plt.plot(data.iloc[split_index:]['fecha'].to_numpy(),y_pred,linestyle='-',color='red')"
   ]
  },
  {
   "cell_type": "code",
   "execution_count": null,
   "id": "14f9777c",
   "metadata": {},
   "outputs": [],
   "source": []
  },
  {
   "cell_type": "code",
   "execution_count": 84,
   "id": "12123f08",
   "metadata": {},
   "outputs": [],
   "source": [
    "import pandas as pd\n",
    "import matplotlib.pyplot as plt\n",
    "from sklearn.model_selection import train_test_split\n",
    "from sklearn.ensemble import RandomForestRegressor"
   ]
  },
  {
   "cell_type": "code",
   "execution_count": 95,
   "id": "4febca4d",
   "metadata": {},
   "outputs": [],
   "source": [
    "data=data.sort_values(by='fecha')\n",
    "split_index=int(len(data)*0.8)\n",
    "X_train=X.iloc[:split_index]\n",
    "X_test=X.iloc[split_index:]\n",
    "y_train=y.iloc[:split_index]\n",
    "y_test=y.iloc[split_index:]"
   ]
  },
  {
   "cell_type": "code",
   "execution_count": 96,
   "id": "abf42d54",
   "metadata": {},
   "outputs": [
    {
     "data": {
      "text/html": [
       "<style>#sk-container-id-5 {color: black;}#sk-container-id-5 pre{padding: 0;}#sk-container-id-5 div.sk-toggleable {background-color: white;}#sk-container-id-5 label.sk-toggleable__label {cursor: pointer;display: block;width: 100%;margin-bottom: 0;padding: 0.3em;box-sizing: border-box;text-align: center;}#sk-container-id-5 label.sk-toggleable__label-arrow:before {content: \"▸\";float: left;margin-right: 0.25em;color: #696969;}#sk-container-id-5 label.sk-toggleable__label-arrow:hover:before {color: black;}#sk-container-id-5 div.sk-estimator:hover label.sk-toggleable__label-arrow:before {color: black;}#sk-container-id-5 div.sk-toggleable__content {max-height: 0;max-width: 0;overflow: hidden;text-align: left;background-color: #f0f8ff;}#sk-container-id-5 div.sk-toggleable__content pre {margin: 0.2em;color: black;border-radius: 0.25em;background-color: #f0f8ff;}#sk-container-id-5 input.sk-toggleable__control:checked~div.sk-toggleable__content {max-height: 200px;max-width: 100%;overflow: auto;}#sk-container-id-5 input.sk-toggleable__control:checked~label.sk-toggleable__label-arrow:before {content: \"▾\";}#sk-container-id-5 div.sk-estimator input.sk-toggleable__control:checked~label.sk-toggleable__label {background-color: #d4ebff;}#sk-container-id-5 div.sk-label input.sk-toggleable__control:checked~label.sk-toggleable__label {background-color: #d4ebff;}#sk-container-id-5 input.sk-hidden--visually {border: 0;clip: rect(1px 1px 1px 1px);clip: rect(1px, 1px, 1px, 1px);height: 1px;margin: -1px;overflow: hidden;padding: 0;position: absolute;width: 1px;}#sk-container-id-5 div.sk-estimator {font-family: monospace;background-color: #f0f8ff;border: 1px dotted black;border-radius: 0.25em;box-sizing: border-box;margin-bottom: 0.5em;}#sk-container-id-5 div.sk-estimator:hover {background-color: #d4ebff;}#sk-container-id-5 div.sk-parallel-item::after {content: \"\";width: 100%;border-bottom: 1px solid gray;flex-grow: 1;}#sk-container-id-5 div.sk-label:hover label.sk-toggleable__label {background-color: #d4ebff;}#sk-container-id-5 div.sk-serial::before {content: \"\";position: absolute;border-left: 1px solid gray;box-sizing: border-box;top: 0;bottom: 0;left: 50%;z-index: 0;}#sk-container-id-5 div.sk-serial {display: flex;flex-direction: column;align-items: center;background-color: white;padding-right: 0.2em;padding-left: 0.2em;position: relative;}#sk-container-id-5 div.sk-item {position: relative;z-index: 1;}#sk-container-id-5 div.sk-parallel {display: flex;align-items: stretch;justify-content: center;background-color: white;position: relative;}#sk-container-id-5 div.sk-item::before, #sk-container-id-5 div.sk-parallel-item::before {content: \"\";position: absolute;border-left: 1px solid gray;box-sizing: border-box;top: 0;bottom: 0;left: 50%;z-index: -1;}#sk-container-id-5 div.sk-parallel-item {display: flex;flex-direction: column;z-index: 1;position: relative;background-color: white;}#sk-container-id-5 div.sk-parallel-item:first-child::after {align-self: flex-end;width: 50%;}#sk-container-id-5 div.sk-parallel-item:last-child::after {align-self: flex-start;width: 50%;}#sk-container-id-5 div.sk-parallel-item:only-child::after {width: 0;}#sk-container-id-5 div.sk-dashed-wrapped {border: 1px dashed gray;margin: 0 0.4em 0.5em 0.4em;box-sizing: border-box;padding-bottom: 0.4em;background-color: white;}#sk-container-id-5 div.sk-label label {font-family: monospace;font-weight: bold;display: inline-block;line-height: 1.2em;}#sk-container-id-5 div.sk-label-container {text-align: center;}#sk-container-id-5 div.sk-container {/* jupyter's `normalize.less` sets `[hidden] { display: none; }` but bootstrap.min.css set `[hidden] { display: none !important; }` so we also need the `!important` here to be able to override the default hidden behavior on the sphinx rendered scikit-learn.org. See: https://github.com/scikit-learn/scikit-learn/issues/21755 */display: inline-block !important;position: relative;}#sk-container-id-5 div.sk-text-repr-fallback {display: none;}</style><div id=\"sk-container-id-5\" class=\"sk-top-container\"><div class=\"sk-text-repr-fallback\"><pre>RandomForestRegressor(max_depth=10, random_state=42)</pre><b>In a Jupyter environment, please rerun this cell to show the HTML representation or trust the notebook. <br />On GitHub, the HTML representation is unable to render, please try loading this page with nbviewer.org.</b></div><div class=\"sk-container\" hidden><div class=\"sk-item\"><div class=\"sk-estimator sk-toggleable\"><input class=\"sk-toggleable__control sk-hidden--visually\" id=\"sk-estimator-id-5\" type=\"checkbox\" checked><label for=\"sk-estimator-id-5\" class=\"sk-toggleable__label sk-toggleable__label-arrow\">RandomForestRegressor</label><div class=\"sk-toggleable__content\"><pre>RandomForestRegressor(max_depth=10, random_state=42)</pre></div></div></div></div></div>"
      ],
      "text/plain": [
       "RandomForestRegressor(max_depth=10, random_state=42)"
      ]
     },
     "execution_count": 96,
     "metadata": {},
     "output_type": "execute_result"
    }
   ],
   "source": [
    "rf_model=RandomForestRegressor(n_estimators=100,max_depth=10,random_state=42)\n",
    "rf_model.fit(X_train,y_train)"
   ]
  },
  {
   "cell_type": "code",
   "execution_count": 97,
   "id": "d87b59b3",
   "metadata": {},
   "outputs": [],
   "source": [
    "y_pred=rf_model.predict(X_test)"
   ]
  },
  {
   "cell_type": "code",
   "execution_count": 98,
   "id": "f13793a3",
   "metadata": {},
   "outputs": [
    {
     "data": {
      "text/plain": [
       "array([31.97963877, 39.5639307 , 36.32001584, 21.51892564, 27.36281563,\n",
       "       42.09270704, 33.42980829, 22.87690203, 32.79089097, 24.83200107,\n",
       "       18.60833931, 18.08642934, 19.83871578, 30.37145707, 27.32069635,\n",
       "       40.46775559, 22.32256376, 31.17674335, 27.58622168, 26.66845588,\n",
       "       35.9793763 , 31.97765891, 29.37520335, 17.04740271, 25.50281515,\n",
       "       30.61498692, 54.92907147, 29.33078923, 21.7472904 , 41.27752477,\n",
       "       27.98804409, 28.88240488, 27.50017765, 22.00148349, 43.90081716,\n",
       "       61.0663236 , 43.08047925, 38.45854528, 41.01196857, 30.73605861,\n",
       "       37.67328507, 40.96081294, 38.22221187, 34.98717665, 27.60097546,\n",
       "       38.82015277, 53.3819991 , 50.4781275 , 39.19500217, 26.5637869 ,\n",
       "       32.94297181, 29.419494  , 28.24947739, 35.07921407, 38.71375014,\n",
       "       36.89693439, 26.52231907, 31.73816267, 31.88197589, 36.66928652,\n",
       "       26.04896585, 31.43322304, 49.68443117, 38.963672  , 56.05146003,\n",
       "       50.71623358, 53.28342229, 44.5319849 , 33.27267482, 26.88054208,\n",
       "       37.83896112, 36.50863298, 39.76017655, 54.64076177, 43.83325215,\n",
       "       52.19765193, 70.54411143, 67.97104663, 50.92722471, 43.57621395,\n",
       "       38.93028221, 42.25358282, 51.00953928, 52.69760259, 50.49860996,\n",
       "       51.60256824, 51.59549926, 48.35184133, 54.37634329, 56.93400949,\n",
       "       44.87039703, 47.69952415, 71.51540864, 42.30116101, 52.34021475,\n",
       "       50.37457001, 31.02269068, 52.10892837, 49.95815333, 90.11783201,\n",
       "       40.38859916, 56.51597625, 62.46945282, 51.05493648, 50.45503893,\n",
       "       41.01323704, 39.27072219, 29.6205138 , 26.36376145, 26.11059885,\n",
       "       36.12810342, 36.42644391, 45.36264958, 46.35487189, 59.96938292,\n",
       "       31.97138477, 41.7168952 , 47.99271825, 50.69522207, 32.84360996,\n",
       "       27.59322559, 41.60868557, 28.33605816, 23.36281002, 32.59598037,\n",
       "       32.69280816, 41.71933453, 31.43172612, 40.97169021, 26.31519744,\n",
       "       23.9906473 , 26.5925286 , 25.83505359, 26.33876112, 47.28773876,\n",
       "       40.48307001, 39.55090653, 46.95980512, 30.44779674, 22.63651175,\n",
       "       16.57070809, 20.31078438, 31.35635815, 45.29002328, 45.20464897,\n",
       "       26.34531243, 32.52914758, 42.1360147 , 56.87349924, 48.61485858,\n",
       "       35.89179063, 42.53894518, 40.17905943, 41.77468396, 55.87803877,\n",
       "       46.91416955, 30.07420963, 33.29861908, 38.7179659 , 40.81777349,\n",
       "       49.38222672, 41.36469625, 38.26051607, 41.90599541, 42.19737109,\n",
       "       29.53150816, 21.09907267, 28.40989936, 24.78984709, 44.9227354 ,\n",
       "       41.31676972, 41.42232538, 47.98816782, 43.51548256, 29.5191308 ,\n",
       "       32.30604972, 51.61448795, 41.92302371, 30.70272547, 26.31010293,\n",
       "       34.31737246, 41.5522851 , 39.7503282 , 43.26781534, 40.15191219,\n",
       "       47.04162314, 54.0112042 , 43.70203717, 44.77438517, 51.59879261,\n",
       "       66.96539165, 59.35873193, 45.42034083, 42.17118467, 57.80855061,\n",
       "       56.30147869, 66.20686198, 62.79424714, 40.93554343, 45.75939435,\n",
       "       40.65971819, 45.11432272, 43.58189014, 49.85303808, 43.23293663,\n",
       "       31.09433193, 42.0012569 , 42.61347089, 33.74581635, 41.98625483,\n",
       "       25.23514586, 44.69763253, 43.80084396, 31.3289361 , 29.67571508,\n",
       "       22.52660329, 38.7326848 , 36.77323159, 48.0537189 , 47.59489611,\n",
       "       37.98825745, 57.29571631, 54.69709796, 53.66244424, 53.07213592,\n",
       "       44.35740318, 45.02892641, 46.79003134, 36.90844662, 30.42060926,\n",
       "       24.58009492, 33.02280593, 37.26832158, 31.98852678, 30.5075874 ,\n",
       "       49.21906727, 51.8463056 , 56.29241134, 54.63264799, 70.1618028 ,\n",
       "       60.2160248 , 54.85303649, 41.00206502, 52.03635424, 44.19855713,\n",
       "       33.80955286, 27.67974669, 33.57506945, 39.45111275, 36.53370537,\n",
       "       30.55055862, 21.84467694, 27.85693823, 39.86238897, 39.34432854,\n",
       "       30.62977396, 40.12274369, 55.56516326, 23.38478893, 31.30900975,\n",
       "       26.6501653 , 23.84466605, 33.49765111, 32.36650576, 21.30785779,\n",
       "       29.58584134, 29.5946712 , 31.06243309, 18.83362366, 20.94042519,\n",
       "       19.52342057, 15.37035644, 28.29774662, 37.51993697, 42.02596758,\n",
       "       28.20408282, 19.956678  , 22.7552457 , 27.39457673, 35.93422657,\n",
       "       38.80093107, 35.77347015, 30.63215062, 20.38702194, 26.9367045 ,\n",
       "       39.02228438, 33.84436327, 31.27719368, 27.03304912, 32.94455233,\n",
       "       32.40506139, 35.03724445, 33.96985689, 25.09892736, 30.58913557,\n",
       "       28.85381558, 27.05945127, 40.5576746 , 41.2657429 , 27.84436021,\n",
       "       30.79426081, 38.58084201, 30.1980189 , 29.8846181 , 25.21116836,\n",
       "       25.91790298, 32.28384316, 29.36596215, 33.40185873, 28.30642578,\n",
       "       25.2302326 , 23.07622251, 33.63417809, 33.38550285, 32.36632125,\n",
       "       33.67065058, 34.4821933 , 26.52941326, 21.96967519, 27.89831762,\n",
       "       30.59887621, 25.50755519, 27.82735155, 29.45648708, 21.91778794,\n",
       "       21.61876907, 20.33907346, 31.08330081, 34.36775043, 43.41897741,\n",
       "       22.582413  , 33.97902177, 40.25286408, 24.13437733, 40.70786094,\n",
       "       27.77555959, 31.43824648, 51.81465851, 32.87306924, 27.56924855,\n",
       "       20.30881254, 30.72096181, 22.20857591, 16.27823259, 16.05904447,\n",
       "       18.57705758, 14.15919259, 25.66774746, 21.58335109, 20.69839039,\n",
       "       30.25381814, 31.18444523, 23.19375896, 24.24434383, 27.7146311 ,\n",
       "       27.36779191, 23.6293328 , 24.31726929, 22.21237001, 23.15703043,\n",
       "       23.13843866, 19.96624366, 19.60927628, 19.29579229, 23.61415935,\n",
       "       31.8027942 , 26.94259872, 15.85869046, 18.47789531, 21.98188011,\n",
       "       16.65793697, 32.96733195, 45.54222804, 46.08923583, 49.93331243,\n",
       "       42.7262753 , 40.28723688, 32.22435829, 26.60799126, 20.21313099,\n",
       "       13.53480993, 16.59004745, 26.48587225, 25.84001117, 24.43112574,\n",
       "       34.48148478, 36.15911345, 40.45501233, 39.52612122, 21.20614081,\n",
       "       18.18116632, 31.01710972, 42.22716801, 51.24465447, 46.67553879,\n",
       "       51.46439496, 54.09605024, 51.48634149, 55.56938884, 55.27255809,\n",
       "       47.44448565, 49.38559756, 39.76631269, 54.9788177 , 49.36998436,\n",
       "       46.44827345, 48.95235869, 49.00258871, 53.52751238, 26.74206118,\n",
       "       21.09688465, 32.42039654, 34.37933282, 52.25567962, 72.46968432,\n",
       "       57.45346821, 39.07262391, 52.42716587, 47.27295271, 45.99933645,\n",
       "       41.00283405, 45.60105692, 59.50509567, 36.24799179, 53.14505107,\n",
       "       63.48940407, 51.61694746, 47.01348168, 33.45269881, 35.80024664,\n",
       "       41.8474412 , 55.87685266, 35.66232192, 29.1424362 , 42.52937576,\n",
       "       42.94509706, 26.48556402, 40.26111213, 52.01648158, 46.47794443,\n",
       "       53.50138933, 68.20635572, 47.9303278 , 39.10062362, 46.94322543,\n",
       "       49.60488772, 45.15304391, 46.75799443, 44.72147288, 52.54241444,\n",
       "       54.67273596, 54.9845886 , 55.41675519, 31.90785619, 52.04950845,\n",
       "       52.34606206, 53.79815825, 68.79988786, 34.99928814, 40.93280424,\n",
       "       41.59395926, 30.9692552 , 31.82407957, 27.18627801, 88.77691907,\n",
       "       22.87191083, 23.02357177, 43.13289575, 48.91820627, 45.93799822,\n",
       "       48.05211403, 42.16045388, 52.91324978, 49.24606862, 54.21100657,\n",
       "       52.65729876, 31.54918365, 44.06425036, 53.19448469, 54.40942401,\n",
       "       56.48203074, 44.84681535, 58.22031186, 62.49467107, 52.31947614,\n",
       "       43.85051127, 31.5255513 , 25.14561046, 44.56196721, 41.40960896,\n",
       "       41.50697982, 40.54960762, 49.40469129, 50.09657954, 40.93827189,\n",
       "       46.5861705 , 41.92142335, 36.01852082, 48.92525571, 34.086835  ,\n",
       "       35.87554821, 46.84016504, 52.74586794, 57.66947808, 51.12926414,\n",
       "       39.30980606, 50.44332286, 45.21237354, 29.87028905, 31.47022629,\n",
       "       31.62208048, 53.41430156, 41.57258379, 28.73970507, 35.05811501,\n",
       "       31.7538787 , 26.14024493, 42.11129612, 51.97810672, 48.01769832,\n",
       "       35.96548185, 36.48899598, 40.44059324, 42.95710465, 46.05762178,\n",
       "       41.50959662, 41.89464944, 46.8336625 , 45.49818833, 44.20327809,\n",
       "       50.20422445, 40.5388838 , 40.27497154, 46.4251141 , 39.68243382,\n",
       "       39.24101143, 35.48828121, 33.09019243, 32.78505358, 30.09054525,\n",
       "       27.06254031, 40.43240344, 27.54334926, 28.23592283, 40.48926375,\n",
       "       40.53719001, 46.23927914, 49.5313087 , 50.00608693, 52.50979098,\n",
       "       50.23842682, 51.13787314, 42.36556506, 51.91569534, 54.44669427,\n",
       "       53.43439204, 52.09465632, 52.24950377, 50.837432  , 51.68296577,\n",
       "       41.06351334, 46.78685458, 39.23944413, 41.09013505, 31.16686126,\n",
       "       25.67858166, 27.81774706, 31.0357243 , 32.70209174, 35.90459704,\n",
       "       30.12897157, 33.1110818 , 44.4629339 , 41.96232232, 32.96790439,\n",
       "       29.16127979, 28.9649008 , 37.44837031, 30.53736786, 41.19660045,\n",
       "       59.27505319, 43.60187848, 43.03185314, 40.89547985, 37.32421487,\n",
       "       44.4114755 , 66.20374655, 53.06007   , 68.54561761, 61.93826058,\n",
       "       38.40756197, 40.31702842, 36.12605642, 42.17771551, 41.08418355,\n",
       "       50.85716658, 45.20515128, 32.8969921 , 27.02986605, 36.76677492,\n",
       "       41.46952179, 36.9178474 , 45.71098456, 39.90467152, 30.87098088,\n",
       "       45.8376347 , 45.50536873, 42.23893353, 47.92352036, 38.72016963,\n",
       "       42.76271588, 36.7916681 , 30.0341298 , 35.21323505, 39.33534796])"
      ]
     },
     "execution_count": 98,
     "metadata": {},
     "output_type": "execute_result"
    }
   ],
   "source": [
    "y_pred"
   ]
  },
  {
   "cell_type": "code",
   "execution_count": 90,
   "id": "758590c4",
   "metadata": {},
   "outputs": [],
   "source": [
    "coeficientes=pd.DataFrame({\n",
    "    'Variable':X.columns,\n",
    "    'Coeficientes':model.coef_\n",
    "    \n",
    "})"
   ]
  },
  {
   "cell_type": "code",
   "execution_count": 91,
   "id": "3f2a98fa",
   "metadata": {},
   "outputs": [
    {
     "name": "stdout",
     "output_type": "stream",
     "text": [
      "  Variable  Coeficientes\n",
      "0     PM25      1.482419\n",
      "1      SO2      0.380519\n"
     ]
    }
   ],
   "source": [
    "print(coeficientes)"
   ]
  },
  {
   "cell_type": "code",
   "execution_count": 92,
   "id": "21bfd1c1",
   "metadata": {},
   "outputs": [
    {
     "name": "stdout",
     "output_type": "stream",
     "text": [
      "Intercepto:8.239487895849031\n"
     ]
    }
   ],
   "source": [
    "print(f\"Intercepto:{model.intercept_}\")"
   ]
  },
  {
   "cell_type": "code",
   "execution_count": 99,
   "id": "3bd434e3",
   "metadata": {},
   "outputs": [],
   "source": [
    "r2=r2_score(y_test,y_pred)"
   ]
  },
  {
   "cell_type": "code",
   "execution_count": 100,
   "id": "d967b7f8",
   "metadata": {},
   "outputs": [
    {
     "data": {
      "text/plain": [
       "0.6377743643479709"
      ]
     },
     "execution_count": 100,
     "metadata": {},
     "output_type": "execute_result"
    }
   ],
   "source": [
    "r2"
   ]
  },
  {
   "cell_type": "code",
   "execution_count": 101,
   "id": "fb03af09",
   "metadata": {},
   "outputs": [],
   "source": [
    "rmse=mean_squared_error(y_test,y_pred,squared=False)"
   ]
  },
  {
   "cell_type": "code",
   "execution_count": 102,
   "id": "26c897a9",
   "metadata": {},
   "outputs": [
    {
     "data": {
      "text/plain": [
       "8.59590542941244"
      ]
     },
     "execution_count": 102,
     "metadata": {},
     "output_type": "execute_result"
    }
   ],
   "source": [
    "rmse"
   ]
  },
  {
   "cell_type": "code",
   "execution_count": 103,
   "id": "2342689e",
   "metadata": {},
   "outputs": [],
   "source": [
    "mae=mean_absolute_error(y_test,y_pred)"
   ]
  },
  {
   "cell_type": "code",
   "execution_count": 104,
   "id": "87182602",
   "metadata": {},
   "outputs": [
    {
     "data": {
      "text/plain": [
       "6.639977224812238"
      ]
     },
     "execution_count": 104,
     "metadata": {},
     "output_type": "execute_result"
    }
   ],
   "source": [
    "mae"
   ]
  },
  {
   "cell_type": "code",
   "execution_count": 105,
   "id": "41658b57",
   "metadata": {},
   "outputs": [
    {
     "ename": "ValueError",
     "evalue": "Multi-dimensional indexing (e.g. `obj[:, None]`) is no longer supported. Convert to a numpy array before indexing instead.",
     "output_type": "error",
     "traceback": [
      "\u001b[1;31m---------------------------------------------------------------------------\u001b[0m",
      "\u001b[1;31mValueError\u001b[0m                                Traceback (most recent call last)",
      "\u001b[1;32m<ipython-input-105-cb02accdf1d9>\u001b[0m in \u001b[0;36m<module>\u001b[1;34m\u001b[0m\n\u001b[0;32m      1\u001b[0m \u001b[0mplt\u001b[0m\u001b[1;33m.\u001b[0m\u001b[0mfigure\u001b[0m\u001b[1;33m(\u001b[0m\u001b[0mfigsize\u001b[0m\u001b[1;33m=\u001b[0m\u001b[1;33m(\u001b[0m\u001b[1;36m12\u001b[0m\u001b[1;33m,\u001b[0m\u001b[1;36m6\u001b[0m\u001b[1;33m)\u001b[0m\u001b[1;33m)\u001b[0m\u001b[1;33m\u001b[0m\u001b[1;33m\u001b[0m\u001b[0m\n\u001b[1;32m----> 2\u001b[1;33m \u001b[0mplt\u001b[0m\u001b[1;33m.\u001b[0m\u001b[0mplot\u001b[0m\u001b[1;33m(\u001b[0m\u001b[0mdata\u001b[0m\u001b[1;33m.\u001b[0m\u001b[0miloc\u001b[0m\u001b[1;33m[\u001b[0m\u001b[0msplit_index\u001b[0m\u001b[1;33m:\u001b[0m\u001b[1;33m]\u001b[0m\u001b[1;33m[\u001b[0m\u001b[1;34m'fecha'\u001b[0m\u001b[1;33m]\u001b[0m\u001b[1;33m.\u001b[0m\u001b[0mto_numpy\u001b[0m\u001b[1;33m(\u001b[0m\u001b[1;33m)\u001b[0m\u001b[1;33m,\u001b[0m\u001b[0my_test\u001b[0m\u001b[1;33m,\u001b[0m\u001b[0mlinestyle\u001b[0m\u001b[1;33m=\u001b[0m\u001b[1;34m'--'\u001b[0m\u001b[1;33m,\u001b[0m\u001b[0mcolor\u001b[0m\u001b[1;33m=\u001b[0m\u001b[1;34m'green'\u001b[0m\u001b[1;33m)\u001b[0m\u001b[1;33m\u001b[0m\u001b[1;33m\u001b[0m\u001b[0m\n\u001b[0m\u001b[0;32m      3\u001b[0m \u001b[0mplt\u001b[0m\u001b[1;33m.\u001b[0m\u001b[0mplot\u001b[0m\u001b[1;33m(\u001b[0m\u001b[0mdata\u001b[0m\u001b[1;33m.\u001b[0m\u001b[0miloc\u001b[0m\u001b[1;33m[\u001b[0m\u001b[0msplit_index\u001b[0m\u001b[1;33m:\u001b[0m\u001b[1;33m]\u001b[0m\u001b[1;33m[\u001b[0m\u001b[1;34m'fecha'\u001b[0m\u001b[1;33m]\u001b[0m\u001b[1;33m.\u001b[0m\u001b[0mto_numpy\u001b[0m\u001b[1;33m(\u001b[0m\u001b[1;33m)\u001b[0m\u001b[1;33m,\u001b[0m\u001b[0my_pred\u001b[0m\u001b[1;33m,\u001b[0m\u001b[0mlinestyle\u001b[0m\u001b[1;33m=\u001b[0m\u001b[1;34m'-'\u001b[0m\u001b[1;33m,\u001b[0m\u001b[0mcolor\u001b[0m\u001b[1;33m=\u001b[0m\u001b[1;34m'red'\u001b[0m\u001b[1;33m)\u001b[0m\u001b[1;33m\u001b[0m\u001b[1;33m\u001b[0m\u001b[0m\n",
      "\u001b[1;32m~\\anaconda3\\lib\\site-packages\\matplotlib\\pyplot.py\u001b[0m in \u001b[0;36mplot\u001b[1;34m(scalex, scaley, data, *args, **kwargs)\u001b[0m\n\u001b[0;32m   2838\u001b[0m \u001b[1;33m@\u001b[0m\u001b[0m_copy_docstring_and_deprecators\u001b[0m\u001b[1;33m(\u001b[0m\u001b[0mAxes\u001b[0m\u001b[1;33m.\u001b[0m\u001b[0mplot\u001b[0m\u001b[1;33m)\u001b[0m\u001b[1;33m\u001b[0m\u001b[1;33m\u001b[0m\u001b[0m\n\u001b[0;32m   2839\u001b[0m \u001b[1;32mdef\u001b[0m \u001b[0mplot\u001b[0m\u001b[1;33m(\u001b[0m\u001b[1;33m*\u001b[0m\u001b[0margs\u001b[0m\u001b[1;33m,\u001b[0m \u001b[0mscalex\u001b[0m\u001b[1;33m=\u001b[0m\u001b[1;32mTrue\u001b[0m\u001b[1;33m,\u001b[0m \u001b[0mscaley\u001b[0m\u001b[1;33m=\u001b[0m\u001b[1;32mTrue\u001b[0m\u001b[1;33m,\u001b[0m \u001b[0mdata\u001b[0m\u001b[1;33m=\u001b[0m\u001b[1;32mNone\u001b[0m\u001b[1;33m,\u001b[0m \u001b[1;33m**\u001b[0m\u001b[0mkwargs\u001b[0m\u001b[1;33m)\u001b[0m\u001b[1;33m:\u001b[0m\u001b[1;33m\u001b[0m\u001b[1;33m\u001b[0m\u001b[0m\n\u001b[1;32m-> 2840\u001b[1;33m     return gca().plot(\n\u001b[0m\u001b[0;32m   2841\u001b[0m         \u001b[1;33m*\u001b[0m\u001b[0margs\u001b[0m\u001b[1;33m,\u001b[0m \u001b[0mscalex\u001b[0m\u001b[1;33m=\u001b[0m\u001b[0mscalex\u001b[0m\u001b[1;33m,\u001b[0m \u001b[0mscaley\u001b[0m\u001b[1;33m=\u001b[0m\u001b[0mscaley\u001b[0m\u001b[1;33m,\u001b[0m\u001b[1;33m\u001b[0m\u001b[1;33m\u001b[0m\u001b[0m\n\u001b[0;32m   2842\u001b[0m         **({\"data\": data} if data is not None else {}), **kwargs)\n",
      "\u001b[1;32m~\\anaconda3\\lib\\site-packages\\matplotlib\\axes\\_axes.py\u001b[0m in \u001b[0;36mplot\u001b[1;34m(self, scalex, scaley, data, *args, **kwargs)\u001b[0m\n\u001b[0;32m   1741\u001b[0m         \"\"\"\n\u001b[0;32m   1742\u001b[0m         \u001b[0mkwargs\u001b[0m \u001b[1;33m=\u001b[0m \u001b[0mcbook\u001b[0m\u001b[1;33m.\u001b[0m\u001b[0mnormalize_kwargs\u001b[0m\u001b[1;33m(\u001b[0m\u001b[0mkwargs\u001b[0m\u001b[1;33m,\u001b[0m \u001b[0mmlines\u001b[0m\u001b[1;33m.\u001b[0m\u001b[0mLine2D\u001b[0m\u001b[1;33m)\u001b[0m\u001b[1;33m\u001b[0m\u001b[1;33m\u001b[0m\u001b[0m\n\u001b[1;32m-> 1743\u001b[1;33m         \u001b[0mlines\u001b[0m \u001b[1;33m=\u001b[0m \u001b[1;33m[\u001b[0m\u001b[1;33m*\u001b[0m\u001b[0mself\u001b[0m\u001b[1;33m.\u001b[0m\u001b[0m_get_lines\u001b[0m\u001b[1;33m(\u001b[0m\u001b[1;33m*\u001b[0m\u001b[0margs\u001b[0m\u001b[1;33m,\u001b[0m \u001b[0mdata\u001b[0m\u001b[1;33m=\u001b[0m\u001b[0mdata\u001b[0m\u001b[1;33m,\u001b[0m \u001b[1;33m**\u001b[0m\u001b[0mkwargs\u001b[0m\u001b[1;33m)\u001b[0m\u001b[1;33m]\u001b[0m\u001b[1;33m\u001b[0m\u001b[1;33m\u001b[0m\u001b[0m\n\u001b[0m\u001b[0;32m   1744\u001b[0m         \u001b[1;32mfor\u001b[0m \u001b[0mline\u001b[0m \u001b[1;32min\u001b[0m \u001b[0mlines\u001b[0m\u001b[1;33m:\u001b[0m\u001b[1;33m\u001b[0m\u001b[1;33m\u001b[0m\u001b[0m\n\u001b[0;32m   1745\u001b[0m             \u001b[0mself\u001b[0m\u001b[1;33m.\u001b[0m\u001b[0madd_line\u001b[0m\u001b[1;33m(\u001b[0m\u001b[0mline\u001b[0m\u001b[1;33m)\u001b[0m\u001b[1;33m\u001b[0m\u001b[1;33m\u001b[0m\u001b[0m\n",
      "\u001b[1;32m~\\anaconda3\\lib\\site-packages\\matplotlib\\axes\\_base.py\u001b[0m in \u001b[0;36m__call__\u001b[1;34m(self, data, *args, **kwargs)\u001b[0m\n\u001b[0;32m    271\u001b[0m                 \u001b[0mthis\u001b[0m \u001b[1;33m+=\u001b[0m \u001b[0margs\u001b[0m\u001b[1;33m[\u001b[0m\u001b[1;36m0\u001b[0m\u001b[1;33m]\u001b[0m\u001b[1;33m,\u001b[0m\u001b[1;33m\u001b[0m\u001b[1;33m\u001b[0m\u001b[0m\n\u001b[0;32m    272\u001b[0m                 \u001b[0margs\u001b[0m \u001b[1;33m=\u001b[0m \u001b[0margs\u001b[0m\u001b[1;33m[\u001b[0m\u001b[1;36m1\u001b[0m\u001b[1;33m:\u001b[0m\u001b[1;33m]\u001b[0m\u001b[1;33m\u001b[0m\u001b[1;33m\u001b[0m\u001b[0m\n\u001b[1;32m--> 273\u001b[1;33m             \u001b[1;32myield\u001b[0m \u001b[1;32mfrom\u001b[0m \u001b[0mself\u001b[0m\u001b[1;33m.\u001b[0m\u001b[0m_plot_args\u001b[0m\u001b[1;33m(\u001b[0m\u001b[0mthis\u001b[0m\u001b[1;33m,\u001b[0m \u001b[0mkwargs\u001b[0m\u001b[1;33m)\u001b[0m\u001b[1;33m\u001b[0m\u001b[1;33m\u001b[0m\u001b[0m\n\u001b[0m\u001b[0;32m    274\u001b[0m \u001b[1;33m\u001b[0m\u001b[0m\n\u001b[0;32m    275\u001b[0m     \u001b[1;32mdef\u001b[0m \u001b[0mget_next_color\u001b[0m\u001b[1;33m(\u001b[0m\u001b[0mself\u001b[0m\u001b[1;33m)\u001b[0m\u001b[1;33m:\u001b[0m\u001b[1;33m\u001b[0m\u001b[1;33m\u001b[0m\u001b[0m\n",
      "\u001b[1;32m~\\anaconda3\\lib\\site-packages\\matplotlib\\axes\\_base.py\u001b[0m in \u001b[0;36m_plot_args\u001b[1;34m(self, tup, kwargs)\u001b[0m\n\u001b[0;32m    387\u001b[0m         \u001b[1;32mif\u001b[0m \u001b[0mlen\u001b[0m\u001b[1;33m(\u001b[0m\u001b[0mtup\u001b[0m\u001b[1;33m)\u001b[0m \u001b[1;33m==\u001b[0m \u001b[1;36m2\u001b[0m\u001b[1;33m:\u001b[0m\u001b[1;33m\u001b[0m\u001b[1;33m\u001b[0m\u001b[0m\n\u001b[0;32m    388\u001b[0m             \u001b[0mx\u001b[0m \u001b[1;33m=\u001b[0m \u001b[0m_check_1d\u001b[0m\u001b[1;33m(\u001b[0m\u001b[0mtup\u001b[0m\u001b[1;33m[\u001b[0m\u001b[1;36m0\u001b[0m\u001b[1;33m]\u001b[0m\u001b[1;33m)\u001b[0m\u001b[1;33m\u001b[0m\u001b[1;33m\u001b[0m\u001b[0m\n\u001b[1;32m--> 389\u001b[1;33m             \u001b[0my\u001b[0m \u001b[1;33m=\u001b[0m \u001b[0m_check_1d\u001b[0m\u001b[1;33m(\u001b[0m\u001b[0mtup\u001b[0m\u001b[1;33m[\u001b[0m\u001b[1;33m-\u001b[0m\u001b[1;36m1\u001b[0m\u001b[1;33m]\u001b[0m\u001b[1;33m)\u001b[0m\u001b[1;33m\u001b[0m\u001b[1;33m\u001b[0m\u001b[0m\n\u001b[0m\u001b[0;32m    390\u001b[0m         \u001b[1;32melse\u001b[0m\u001b[1;33m:\u001b[0m\u001b[1;33m\u001b[0m\u001b[1;33m\u001b[0m\u001b[0m\n\u001b[0;32m    391\u001b[0m             \u001b[0mx\u001b[0m\u001b[1;33m,\u001b[0m \u001b[0my\u001b[0m \u001b[1;33m=\u001b[0m \u001b[0mindex_of\u001b[0m\u001b[1;33m(\u001b[0m\u001b[0mtup\u001b[0m\u001b[1;33m[\u001b[0m\u001b[1;33m-\u001b[0m\u001b[1;36m1\u001b[0m\u001b[1;33m]\u001b[0m\u001b[1;33m)\u001b[0m\u001b[1;33m\u001b[0m\u001b[1;33m\u001b[0m\u001b[0m\n",
      "\u001b[1;32m~\\anaconda3\\lib\\site-packages\\matplotlib\\cbook\\__init__.py\u001b[0m in \u001b[0;36m_check_1d\u001b[1;34m(x)\u001b[0m\n\u001b[0;32m   1316\u001b[0m                     message='Support for multi-dimensional indexing')\n\u001b[0;32m   1317\u001b[0m \u001b[1;33m\u001b[0m\u001b[0m\n\u001b[1;32m-> 1318\u001b[1;33m                 \u001b[0mndim\u001b[0m \u001b[1;33m=\u001b[0m \u001b[0mx\u001b[0m\u001b[1;33m[\u001b[0m\u001b[1;33m:\u001b[0m\u001b[1;33m,\u001b[0m \u001b[1;32mNone\u001b[0m\u001b[1;33m]\u001b[0m\u001b[1;33m.\u001b[0m\u001b[0mndim\u001b[0m\u001b[1;33m\u001b[0m\u001b[1;33m\u001b[0m\u001b[0m\n\u001b[0m\u001b[0;32m   1319\u001b[0m                 \u001b[1;31m# we have definitely hit a pandas index or series object\u001b[0m\u001b[1;33m\u001b[0m\u001b[1;33m\u001b[0m\u001b[1;33m\u001b[0m\u001b[0m\n\u001b[0;32m   1320\u001b[0m                 \u001b[1;31m# cast to a numpy array.\u001b[0m\u001b[1;33m\u001b[0m\u001b[1;33m\u001b[0m\u001b[1;33m\u001b[0m\u001b[0m\n",
      "\u001b[1;32m~\\anaconda3\\lib\\site-packages\\pandas\\core\\series.py\u001b[0m in \u001b[0;36m__getitem__\u001b[1;34m(self, key)\u001b[0m\n\u001b[0;32m   1031\u001b[0m             \u001b[1;32mreturn\u001b[0m \u001b[0mself\u001b[0m\u001b[1;33m.\u001b[0m\u001b[0m_get_values\u001b[0m\u001b[1;33m(\u001b[0m\u001b[0mkey\u001b[0m\u001b[1;33m)\u001b[0m\u001b[1;33m\u001b[0m\u001b[1;33m\u001b[0m\u001b[0m\n\u001b[0;32m   1032\u001b[0m \u001b[1;33m\u001b[0m\u001b[0m\n\u001b[1;32m-> 1033\u001b[1;33m         \u001b[1;32mreturn\u001b[0m \u001b[0mself\u001b[0m\u001b[1;33m.\u001b[0m\u001b[0m_get_with\u001b[0m\u001b[1;33m(\u001b[0m\u001b[0mkey\u001b[0m\u001b[1;33m)\u001b[0m\u001b[1;33m\u001b[0m\u001b[1;33m\u001b[0m\u001b[0m\n\u001b[0m\u001b[0;32m   1034\u001b[0m \u001b[1;33m\u001b[0m\u001b[0m\n\u001b[0;32m   1035\u001b[0m     \u001b[1;32mdef\u001b[0m \u001b[0m_get_with\u001b[0m\u001b[1;33m(\u001b[0m\u001b[0mself\u001b[0m\u001b[1;33m,\u001b[0m \u001b[0mkey\u001b[0m\u001b[1;33m)\u001b[0m\u001b[1;33m:\u001b[0m\u001b[1;33m\u001b[0m\u001b[1;33m\u001b[0m\u001b[0m\n",
      "\u001b[1;32m~\\anaconda3\\lib\\site-packages\\pandas\\core\\series.py\u001b[0m in \u001b[0;36m_get_with\u001b[1;34m(self, key)\u001b[0m\n\u001b[0;32m   1046\u001b[0m             )\n\u001b[0;32m   1047\u001b[0m         \u001b[1;32melif\u001b[0m \u001b[0misinstance\u001b[0m\u001b[1;33m(\u001b[0m\u001b[0mkey\u001b[0m\u001b[1;33m,\u001b[0m \u001b[0mtuple\u001b[0m\u001b[1;33m)\u001b[0m\u001b[1;33m:\u001b[0m\u001b[1;33m\u001b[0m\u001b[1;33m\u001b[0m\u001b[0m\n\u001b[1;32m-> 1048\u001b[1;33m             \u001b[1;32mreturn\u001b[0m \u001b[0mself\u001b[0m\u001b[1;33m.\u001b[0m\u001b[0m_get_values_tuple\u001b[0m\u001b[1;33m(\u001b[0m\u001b[0mkey\u001b[0m\u001b[1;33m)\u001b[0m\u001b[1;33m\u001b[0m\u001b[1;33m\u001b[0m\u001b[0m\n\u001b[0m\u001b[0;32m   1049\u001b[0m \u001b[1;33m\u001b[0m\u001b[0m\n\u001b[0;32m   1050\u001b[0m         \u001b[1;32melif\u001b[0m \u001b[1;32mnot\u001b[0m \u001b[0mis_list_like\u001b[0m\u001b[1;33m(\u001b[0m\u001b[0mkey\u001b[0m\u001b[1;33m)\u001b[0m\u001b[1;33m:\u001b[0m\u001b[1;33m\u001b[0m\u001b[1;33m\u001b[0m\u001b[0m\n",
      "\u001b[1;32m~\\anaconda3\\lib\\site-packages\\pandas\\core\\series.py\u001b[0m in \u001b[0;36m_get_values_tuple\u001b[1;34m(self, key)\u001b[0m\n\u001b[0;32m   1080\u001b[0m             \u001b[1;31m# the asarray is needed to avoid returning a 2D DatetimeArray\u001b[0m\u001b[1;33m\u001b[0m\u001b[1;33m\u001b[0m\u001b[1;33m\u001b[0m\u001b[0m\n\u001b[0;32m   1081\u001b[0m             \u001b[0mresult\u001b[0m \u001b[1;33m=\u001b[0m \u001b[0mnp\u001b[0m\u001b[1;33m.\u001b[0m\u001b[0masarray\u001b[0m\u001b[1;33m(\u001b[0m\u001b[0mself\u001b[0m\u001b[1;33m.\u001b[0m\u001b[0m_values\u001b[0m\u001b[1;33m[\u001b[0m\u001b[0mkey\u001b[0m\u001b[1;33m]\u001b[0m\u001b[1;33m)\u001b[0m\u001b[1;33m\u001b[0m\u001b[1;33m\u001b[0m\u001b[0m\n\u001b[1;32m-> 1082\u001b[1;33m             \u001b[0mdisallow_ndim_indexing\u001b[0m\u001b[1;33m(\u001b[0m\u001b[0mresult\u001b[0m\u001b[1;33m)\u001b[0m\u001b[1;33m\u001b[0m\u001b[1;33m\u001b[0m\u001b[0m\n\u001b[0m\u001b[0;32m   1083\u001b[0m             \u001b[1;32mreturn\u001b[0m \u001b[0mresult\u001b[0m\u001b[1;33m\u001b[0m\u001b[1;33m\u001b[0m\u001b[0m\n\u001b[0;32m   1084\u001b[0m \u001b[1;33m\u001b[0m\u001b[0m\n",
      "\u001b[1;32m~\\anaconda3\\lib\\site-packages\\pandas\\core\\indexers\\utils.py\u001b[0m in \u001b[0;36mdisallow_ndim_indexing\u001b[1;34m(result)\u001b[0m\n\u001b[0;32m    341\u001b[0m     \"\"\"\n\u001b[0;32m    342\u001b[0m     \u001b[1;32mif\u001b[0m \u001b[0mnp\u001b[0m\u001b[1;33m.\u001b[0m\u001b[0mndim\u001b[0m\u001b[1;33m(\u001b[0m\u001b[0mresult\u001b[0m\u001b[1;33m)\u001b[0m \u001b[1;33m>\u001b[0m \u001b[1;36m1\u001b[0m\u001b[1;33m:\u001b[0m\u001b[1;33m\u001b[0m\u001b[1;33m\u001b[0m\u001b[0m\n\u001b[1;32m--> 343\u001b[1;33m         raise ValueError(\n\u001b[0m\u001b[0;32m    344\u001b[0m             \u001b[1;34m\"Multi-dimensional indexing (e.g. `obj[:, None]`) is no longer \"\u001b[0m\u001b[1;33m\u001b[0m\u001b[1;33m\u001b[0m\u001b[0m\n\u001b[0;32m    345\u001b[0m             \u001b[1;34m\"supported. Convert to a numpy array before indexing instead.\"\u001b[0m\u001b[1;33m\u001b[0m\u001b[1;33m\u001b[0m\u001b[0m\n",
      "\u001b[1;31mValueError\u001b[0m: Multi-dimensional indexing (e.g. `obj[:, None]`) is no longer supported. Convert to a numpy array before indexing instead."
     ]
    },
    {
     "data": {
      "image/png": "[encoded data removed]",
      "text/plain": [
       "<Figure size 864x432 with 1 Axes>"
      ]
     },
     "metadata": {
      "needs_background": "light"
     },
     "output_type": "display_data"
    }
   ],
   "source": [
    "plt.figure(figsize=(12,6))\n",
    "plt.plot(data.iloc[split_index:]['fecha'].to_numpy(),y_test,linestyle='--',color='green')\n",
    "plt.plot(data.iloc[split_index:]['fecha'].to_numpy(),y_pred,linestyle='-',color='red')\n",
    "\n",
    "### Revisar por que no me compila"
   ]
  },
  {
   "cell_type": "code",
   "execution_count": null,
   "id": "2b56ed0b",
   "metadata": {},
   "outputs": [],
   "source": []
  }
 ],
 "metadata": {
  "kernelspec": {
   "display_name": "Python 3",
   "language": "python",
   "name": "python3"
  },
  "language_info": {
   "codemirror_mode": {
    "name": "ipython",
    "version": 3
   },
   "file_extension": ".py",
   "mimetype": "text/x-python",
   "name": "python",
   "nbconvert_exporter": "python",
   "pygments_lexer": "ipython3",
   "version": "3.8.8"
  }
 },
 "nbformat": 4,
 "nbformat_minor": 5
}
