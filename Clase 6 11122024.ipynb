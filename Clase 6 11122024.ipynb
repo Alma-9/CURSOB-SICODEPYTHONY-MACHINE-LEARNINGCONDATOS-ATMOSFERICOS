{
 "cells": [
  {
   "cell_type": "code",
   "execution_count": 4,
   "id": "6ba82ff1",
   "metadata": {},
   "outputs": [],
   "source": [
    "import tensorflow as tf\n",
    "from sklearn.svm import SVR\n",
    "from sklearn.metrics import mean_squared_error, r2_score\n",
    "import matplotlib.pyplot as plt\n",
    "import pandas as pd\n",
    "import numpy as np"
   ]
  },
  {
   "cell_type": "code",
   "execution_count": 3,
   "id": "8952a0fe",
   "metadata": {},
   "outputs": [
    {
     "name": "stdout",
     "output_type": "stream",
     "text": [
      "Collecting tensorflow\n",
      "  Downloading tensorflow-2.13.1-cp38-cp38-win_amd64.whl (1.9 kB)\n",
      "  Downloading tensorflow-2.13.0-cp38-cp38-win_amd64.whl (1.9 kB)\n",
      "Collecting tensorflow-intel==2.13.0\n",
      "  Downloading tensorflow_intel-2.13.0-cp38-cp38-win_amd64.whl (276.5 MB)\n",
      "Collecting opt-einsum>=2.3.2\n",
      "  Downloading opt_einsum-3.4.0-py3-none-any.whl (71 kB)\n",
      "Requirement already satisfied: setuptools in c:\\users\\victo\\anaconda3\\lib\\site-packages (from tensorflow-intel==2.13.0->tensorflow) (52.0.0.post20210125)\n",
      "Collecting grpcio<2.0,>=1.24.3\n",
      "Note: you may need to restart the kernel to use updated packages.\n",
      "  Downloading grpcio-1.68.1-cp38-cp38-win_amd64.whl (4.4 MB)\n",
      "Collecting google-pasta>=0.1.1\n",
      "  Downloading google_pasta-0.2.0-py3-none-any.whl (57 kB)\n",
      "Requirement already satisfied: six>=1.12.0 in c:\\users\\victo\\anaconda3\\lib\\site-packages (from tensorflow-intel==2.13.0->tensorflow) (1.15.0)\n",
      "Requirement already satisfied: h5py>=2.9.0 in c:\\users\\victo\\anaconda3\\lib\\site-packages (from tensorflow-intel==2.13.0->tensorflow) (2.10.0)\n",
      "Collecting astunparse>=1.6.0\n",
      "  Downloading astunparse-1.6.3-py2.py3-none-any.whl (12 kB)\n",
      "Collecting protobuf!=4.21.0,!=4.21.1,!=4.21.2,!=4.21.3,!=4.21.4,!=4.21.5,<5.0.0dev,>=3.20.3\n",
      "  Downloading protobuf-4.25.5-cp38-cp38-win_amd64.whl (413 kB)\n",
      "Collecting tensorflow-io-gcs-filesystem>=0.23.1\n",
      "  Downloading tensorflow_io_gcs_filesystem-0.31.0-cp38-cp38-win_amd64.whl (1.5 MB)\n",
      "Collecting tensorflow-estimator<2.14,>=2.13.0\n",
      "  Downloading tensorflow_estimator-2.13.0-py2.py3-none-any.whl (440 kB)\n",
      "Collecting keras<2.14,>=2.13.1\n",
      "  Downloading keras-2.13.1-py3-none-any.whl (1.7 MB)\n",
      "Collecting flatbuffers>=23.1.21\n",
      "  Downloading flatbuffers-24.3.25-py2.py3-none-any.whl (26 kB)\n",
      "Collecting tensorboard<2.14,>=2.13\n",
      "  Downloading tensorboard-2.13.0-py3-none-any.whl (5.6 MB)\n",
      "Collecting gast<=0.4.0,>=0.2.1\n",
      "  Downloading gast-0.4.0-py3-none-any.whl (9.8 kB)\n",
      "Collecting absl-py>=1.0.0\n",
      "  Downloading absl_py-2.1.0-py3-none-any.whl (133 kB)\n",
      "Collecting termcolor>=1.1.0\n",
      "  Downloading termcolor-2.4.0-py3-none-any.whl (7.7 kB)\n",
      "Requirement already satisfied: typing-extensions<4.6.0,>=3.6.6 in c:\\users\\victo\\anaconda3\\lib\\site-packages (from tensorflow-intel==2.13.0->tensorflow) (3.7.4.3)\n",
      "Requirement already satisfied: packaging in c:\\users\\victo\\anaconda3\\lib\\site-packages (from tensorflow-intel==2.13.0->tensorflow) (24.2)\n",
      "Collecting libclang>=13.0.0\n",
      "  Downloading libclang-18.1.1-py2.py3-none-win_amd64.whl (26.4 MB)\n",
      "Requirement already satisfied: wrapt>=1.11.0 in c:\\users\\victo\\anaconda3\\lib\\site-packages (from tensorflow-intel==2.13.0->tensorflow) (1.12.1)\n",
      "Requirement already satisfied: numpy<=1.24.3,>=1.22 in c:\\users\\victo\\anaconda3\\lib\\site-packages (from tensorflow-intel==2.13.0->tensorflow) (1.22.4)\n",
      "Requirement already satisfied: wheel<1.0,>=0.23.0 in c:\\users\\victo\\anaconda3\\lib\\site-packages (from astunparse>=1.6.0->tensorflow-intel==2.13.0->tensorflow) (0.36.2)\n",
      "Collecting markdown>=2.6.8\n",
      "  Downloading Markdown-3.7-py3-none-any.whl (106 kB)\n",
      "Requirement already satisfied: requests<3,>=2.21.0 in c:\\users\\victo\\anaconda3\\lib\\site-packages (from tensorboard<2.14,>=2.13->tensorflow-intel==2.13.0->tensorflow) (2.25.1)\n",
      "Requirement already satisfied: werkzeug>=1.0.1 in c:\\users\\victo\\anaconda3\\lib\\site-packages (from tensorboard<2.14,>=2.13->tensorflow-intel==2.13.0->tensorflow) (1.0.1)\n",
      "Collecting tensorboard-data-server<0.8.0,>=0.7.0\n",
      "  Downloading tensorboard_data_server-0.7.2-py3-none-any.whl (2.4 kB)\n",
      "Collecting google-auth-oauthlib<1.1,>=0.5\n",
      "  Downloading google_auth_oauthlib-1.0.0-py2.py3-none-any.whl (18 kB)\n",
      "Collecting google-auth<3,>=1.6.3\n",
      "  Downloading google_auth-2.37.0-py2.py3-none-any.whl (209 kB)\n",
      "Collecting cachetools<6.0,>=2.0.0\n",
      "  Downloading cachetools-5.5.0-py3-none-any.whl (9.5 kB)\n",
      "Collecting rsa<5,>=3.1.4\n",
      "  Downloading rsa-4.9-py3-none-any.whl (34 kB)\n",
      "Collecting pyasn1-modules>=0.2.1\n",
      "  Downloading pyasn1_modules-0.4.1-py3-none-any.whl (181 kB)\n",
      "Collecting requests-oauthlib>=0.7.0\n",
      "  Downloading requests_oauthlib-2.0.0-py2.py3-none-any.whl (24 kB)\n",
      "Collecting importlib-metadata>=4.4\n",
      "  Downloading importlib_metadata-8.5.0-py3-none-any.whl (26 kB)\n",
      "Collecting zipp>=3.20\n",
      "  Downloading zipp-3.20.2-py3-none-any.whl (9.2 kB)\n",
      "Collecting pyasn1<0.7.0,>=0.4.6\n",
      "  Downloading pyasn1-0.6.1-py3-none-any.whl (83 kB)\n",
      "Requirement already satisfied: certifi>=2017.4.17 in c:\\users\\victo\\anaconda3\\lib\\site-packages (from requests<3,>=2.21.0->tensorboard<2.14,>=2.13->tensorflow-intel==2.13.0->tensorflow) (2020.12.5)\n",
      "Requirement already satisfied: chardet<5,>=3.0.2 in c:\\users\\victo\\anaconda3\\lib\\site-packages (from requests<3,>=2.21.0->tensorboard<2.14,>=2.13->tensorflow-intel==2.13.0->tensorflow) (4.0.0)\n",
      "Requirement already satisfied: urllib3<1.27,>=1.21.1 in c:\\users\\victo\\anaconda3\\lib\\site-packages (from requests<3,>=2.21.0->tensorboard<2.14,>=2.13->tensorflow-intel==2.13.0->tensorflow) (1.26.4)\n",
      "Requirement already satisfied: idna<3,>=2.5 in c:\\users\\victo\\anaconda3\\lib\\site-packages (from requests<3,>=2.21.0->tensorboard<2.14,>=2.13->tensorflow-intel==2.13.0->tensorflow) (2.10)\n",
      "Collecting oauthlib>=3.0.0\n",
      "  Downloading oauthlib-3.2.2-py3-none-any.whl (151 kB)\n",
      "Installing collected packages: pyasn1, zipp, rsa, pyasn1-modules, oauthlib, cachetools, requests-oauthlib, importlib-metadata, google-auth, tensorboard-data-server, protobuf, markdown, grpcio, google-auth-oauthlib, absl-py, termcolor, tensorflow-io-gcs-filesystem, tensorflow-estimator, tensorboard, opt-einsum, libclang, keras, google-pasta, gast, flatbuffers, astunparse, tensorflow-intel, tensorflow\n",
      "  Attempting uninstall: zipp\n",
      "    Found existing installation: zipp 3.4.1\n",
      "    Uninstalling zipp-3.4.1:\n",
      "      Successfully uninstalled zipp-3.4.1\n",
      "  Attempting uninstall: importlib-metadata\n",
      "    Found existing installation: importlib-metadata 3.10.0\n",
      "    Uninstalling importlib-metadata-3.10.0:\n",
      "      Successfully uninstalled importlib-metadata-3.10.0\n",
      "Successfully installed absl-py-2.1.0 astunparse-1.6.3 cachetools-5.5.0 flatbuffers-24.3.25 gast-0.4.0 google-auth-2.37.0 google-auth-oauthlib-1.0.0 google-pasta-0.2.0 grpcio-1.68.1 importlib-metadata-8.5.0 keras-2.13.1 libclang-18.1.1 markdown-3.7 oauthlib-3.2.2 opt-einsum-3.4.0 protobuf-4.25.5 pyasn1-0.6.1 pyasn1-modules-0.4.1 requests-oauthlib-2.0.0 rsa-4.9 tensorboard-2.13.0 tensorboard-data-server-0.7.2 tensorflow-2.13.0 tensorflow-estimator-2.13.0 tensorflow-intel-2.13.0 tensorflow-io-gcs-filesystem-0.31.0 termcolor-2.4.0 zipp-3.20.2\n"
     ]
    }
   ],
   "source": [
    "pip install tensorflow"
   ]
  },
  {
   "cell_type": "code",
   "execution_count": 5,
   "id": "1a96c07e",
   "metadata": {},
   "outputs": [
    {
     "name": "stdout",
     "output_type": "stream",
     "text": [
      "<class 'pandas.core.frame.DataFrame'>\n",
      "RangeIndex: 52179 entries, 0 to 52178\n",
      "Data columns (total 13 columns):\n",
      " #   Column  Non-Null Count  Dtype  \n",
      "---  ------  --------------  -----  \n",
      " 0   0       52179 non-null  object \n",
      " 1   1       52179 non-null  object \n",
      " 2   2       52179 non-null  float64\n",
      " 3   3       52179 non-null  float64\n",
      " 4   4       52179 non-null  float64\n",
      " 5   5       52179 non-null  float64\n",
      " 6   6       52179 non-null  float64\n",
      " 7   7       52179 non-null  float64\n",
      " 8   8       52179 non-null  float64\n",
      " 9   9       52179 non-null  float64\n",
      " 10  10      52179 non-null  float64\n",
      " 11  11      52179 non-null  float64\n",
      " 12  12      52179 non-null  float64\n",
      "dtypes: float64(11), object(2)\n",
      "memory usage: 5.2+ MB\n"
     ]
    }
   ],
   "source": [
    "df=pd.read_csv('DatosAzcapo.txt',sep=',',header=None)\n",
    "df.info()"
   ]
  },
  {
   "cell_type": "code",
   "execution_count": 7,
   "id": "cc00533f",
   "metadata": {},
   "outputs": [
    {
     "data": {
      "text/html": [
       "<div>\n",
       "<style scoped>\n",
       "    .dataframe tbody tr th:only-of-type {\n",
       "        vertical-align: middle;\n",
       "    }\n",
       "\n",
       "    .dataframe tbody tr th {\n",
       "        vertical-align: top;\n",
       "    }\n",
       "\n",
       "    .dataframe thead th {\n",
       "        text-align: right;\n",
       "    }\n",
       "</style>\n",
       "<table border=\"1\" class=\"dataframe\">\n",
       "  <thead>\n",
       "    <tr style=\"text-align: right;\">\n",
       "      <th></th>\n",
       "      <th>0</th>\n",
       "      <th>1</th>\n",
       "      <th>2</th>\n",
       "      <th>3</th>\n",
       "      <th>4</th>\n",
       "      <th>5</th>\n",
       "      <th>6</th>\n",
       "      <th>7</th>\n",
       "      <th>8</th>\n",
       "      <th>9</th>\n",
       "      <th>10</th>\n",
       "      <th>11</th>\n",
       "      <th>12</th>\n",
       "    </tr>\n",
       "  </thead>\n",
       "  <tbody>\n",
       "    <tr>\n",
       "      <th>0</th>\n",
       "      <td>4/4/2024 12:00:00 AM</td>\n",
       "      <td>4/4/2024 6:00:00 AM</td>\n",
       "      <td>28.692070</td>\n",
       "      <td>14.742066</td>\n",
       "      <td>13.950004</td>\n",
       "      <td>23.128830</td>\n",
       "      <td>19.350910</td>\n",
       "      <td>77.827011</td>\n",
       "      <td>28.035599</td>\n",
       "      <td>25.874756</td>\n",
       "      <td>33.960640</td>\n",
       "      <td>11.665325</td>\n",
       "      <td>5.025064</td>\n",
       "    </tr>\n",
       "    <tr>\n",
       "      <th>1</th>\n",
       "      <td>4/4/2024 12:01:00 AM</td>\n",
       "      <td>4/4/2024 6:01:00 AM</td>\n",
       "      <td>32.022658</td>\n",
       "      <td>14.771019</td>\n",
       "      <td>17.251640</td>\n",
       "      <td>23.148970</td>\n",
       "      <td>19.340763</td>\n",
       "      <td>77.817986</td>\n",
       "      <td>27.919699</td>\n",
       "      <td>25.910034</td>\n",
       "      <td>33.966431</td>\n",
       "      <td>11.671605</td>\n",
       "      <td>5.068029</td>\n",
       "    </tr>\n",
       "    <tr>\n",
       "      <th>2</th>\n",
       "      <td>4/4/2024 12:02:00 AM</td>\n",
       "      <td>4/4/2024 6:02:00 AM</td>\n",
       "      <td>32.219123</td>\n",
       "      <td>14.717249</td>\n",
       "      <td>17.501873</td>\n",
       "      <td>23.169109</td>\n",
       "      <td>19.335342</td>\n",
       "      <td>77.820869</td>\n",
       "      <td>27.938000</td>\n",
       "      <td>25.910950</td>\n",
       "      <td>33.988586</td>\n",
       "      <td>11.663702</td>\n",
       "      <td>5.003208</td>\n",
       "    </tr>\n",
       "    <tr>\n",
       "      <th>3</th>\n",
       "      <td>4/4/2024 12:03:00 AM</td>\n",
       "      <td>4/4/2024 6:03:00 AM</td>\n",
       "      <td>31.586301</td>\n",
       "      <td>14.659344</td>\n",
       "      <td>16.926957</td>\n",
       "      <td>23.169109</td>\n",
       "      <td>19.330561</td>\n",
       "      <td>77.814812</td>\n",
       "      <td>27.956299</td>\n",
       "      <td>25.925995</td>\n",
       "      <td>33.997185</td>\n",
       "      <td>11.670901</td>\n",
       "      <td>4.931069</td>\n",
       "    </tr>\n",
       "    <tr>\n",
       "      <th>4</th>\n",
       "      <td>4/4/2024 12:04:00 AM</td>\n",
       "      <td>4/4/2024 6:04:00 AM</td>\n",
       "      <td>32.534500</td>\n",
       "      <td>14.676922</td>\n",
       "      <td>17.857577</td>\n",
       "      <td>23.199320</td>\n",
       "      <td>19.308531</td>\n",
       "      <td>77.830132</td>\n",
       "      <td>27.956299</td>\n",
       "      <td>25.948059</td>\n",
       "      <td>34.013283</td>\n",
       "      <td>11.678738</td>\n",
       "      <td>5.000206</td>\n",
       "    </tr>\n",
       "  </tbody>\n",
       "</table>\n",
       "</div>"
      ],
      "text/plain": [
       "                     0                     1          2          3   \\\n",
       "0  4/4/2024 12:00:00 AM   4/4/2024 6:00:00 AM  28.692070  14.742066   \n",
       "1  4/4/2024 12:01:00 AM   4/4/2024 6:01:00 AM  32.022658  14.771019   \n",
       "2  4/4/2024 12:02:00 AM   4/4/2024 6:02:00 AM  32.219123  14.717249   \n",
       "3  4/4/2024 12:03:00 AM   4/4/2024 6:03:00 AM  31.586301  14.659344   \n",
       "4  4/4/2024 12:04:00 AM   4/4/2024 6:04:00 AM  32.534500  14.676922   \n",
       "\n",
       "          4          5          6          7          8          9   \\\n",
       "0  13.950004  23.128830  19.350910  77.827011  28.035599  25.874756   \n",
       "1  17.251640  23.148970  19.340763  77.817986  27.919699  25.910034   \n",
       "2  17.501873  23.169109  19.335342  77.820869  27.938000  25.910950   \n",
       "3  16.926957  23.169109  19.330561  77.814812  27.956299  25.925995   \n",
       "4  17.857577  23.199320  19.308531  77.830132  27.956299  25.948059   \n",
       "\n",
       "          10         11        12  \n",
       "0  33.960640  11.665325  5.025064  \n",
       "1  33.966431  11.671605  5.068029  \n",
       "2  33.988586  11.663702  5.003208  \n",
       "3  33.997185  11.670901  4.931069  \n",
       "4  34.013283  11.678738  5.000206  "
      ]
     },
     "execution_count": 7,
     "metadata": {},
     "output_type": "execute_result"
    }
   ],
   "source": [
    "df.head()"
   ]
  },
  {
   "cell_type": "code",
   "execution_count": 8,
   "id": "8587c26e",
   "metadata": {},
   "outputs": [
    {
     "name": "stderr",
     "output_type": "stream",
     "text": [
      "<ipython-input-8-f5f18913dd5c>:1: UserWarning: Could not infer format, so each element will be parsed individually, falling back to `dateutil`. To ensure parsing is consistent and as-expected, please specify a format.\n",
      "  df['fechas']=pd.to_datetime(df[0])\n"
     ]
    }
   ],
   "source": [
    "df['fechas']=pd.to_datetime(df[0])\n",
    "df=df.set_index('fechas')"
   ]
  },
  {
   "cell_type": "code",
   "execution_count": 9,
   "id": "087f8dde",
   "metadata": {},
   "outputs": [],
   "source": [
    "PM10=df[2]\n",
    "PM25=df[3]\n",
    "PMmix=df[4]\n",
    "Temp=df[6]\n",
    "Pres=df[7]\n",
    "RH=df[8]"
   ]
  },
  {
   "cell_type": "code",
   "execution_count": 10,
   "id": "9967b0f6",
   "metadata": {},
   "outputs": [],
   "source": [
    "variable=['$PM_{10}$','$PM_{25}$','$PM_{mix}$','T','P','RH',]\n",
    "colors=['black','green','red','blue','orange','brown']"
   ]
  },
  {
   "cell_type": "code",
   "execution_count": null,
   "id": "58e0a04b",
   "metadata": {},
   "outputs": [],
   "source": []
  },
  {
   "cell_type": "code",
   "execution_count": null,
   "id": "8f816f67",
   "metadata": {},
   "outputs": [],
   "source": []
  },
  {
   "cell_type": "code",
   "execution_count": null,
   "id": "bd3f63e6",
   "metadata": {},
   "outputs": [],
   "source": []
  },
  {
   "cell_type": "code",
   "execution_count": 11,
   "id": "acbb1ea7",
   "metadata": {},
   "outputs": [
    {
     "name": "stdout",
     "output_type": "stream",
     "text": [
      "[[19.35091019 77.82701111 28.03559875]\n",
      " [19.34076309 77.81798553 27.91969872]\n",
      " [19.33534241 77.82086945 27.93799973]\n",
      " ...\n",
      " [27.89101791 78.05047607 26.26659966]\n",
      " [27.69476509 78.07154846 25.30279922]\n",
      " [27.57023621 78.05378723 24.47929955]]\n",
      "52179\n",
      "52179\n"
     ]
    }
   ],
   "source": [
    "Data_in=np.column_stack([Temp,Pres,RH])\n",
    "Data_out=np.column_stack([PM25])\n",
    "print(Data_in)\n",
    "print(len(Data_in))\n",
    "print(len(Data_out))\n",
    "\n"
   ]
  },
  {
   "cell_type": "code",
   "execution_count": 13,
   "id": "be451664",
   "metadata": {},
   "outputs": [
    {
     "data": {
      "text/plain": [
       "1"
      ]
     },
     "execution_count": 13,
     "metadata": {},
     "output_type": "execute_result"
    }
   ],
   "source": [
    "Data_out.shape[1]"
   ]
  },
  {
   "cell_type": "code",
   "execution_count": 14,
   "id": "b0430154",
   "metadata": {},
   "outputs": [],
   "source": [
    "#Crear el modelo de TensorFlow\n",
    "#Definir el modelo secuencial\n",
    "\n",
    "model=tf.keras.Sequential([\n",
    "    tf.keras.layers.Dense(3,activation='linear',input_shape=(Data_in.shape[1],)),\n",
    "    tf.keras.layers.Dense(1,activation='linear')\n",
    "])"
   ]
  },
  {
   "cell_type": "code",
   "execution_count": 15,
   "id": "236b7516",
   "metadata": {},
   "outputs": [
    {
     "name": "stdout",
     "output_type": "stream",
     "text": [
      "Model: \"sequential\"\n",
      "_________________________________________________________________\n",
      " Layer (type)                Output Shape              Param #   \n",
      "=================================================================\n",
      " dense (Dense)               (None, 3)                 12        \n",
      "                                                                 \n",
      " dense_1 (Dense)             (None, 1)                 4         \n",
      "                                                                 \n",
      "=================================================================\n",
      "Total params: 16 (64.00 Byte)\n",
      "Trainable params: 16 (64.00 Byte)\n",
      "Non-trainable params: 0 (0.00 Byte)\n",
      "_________________________________________________________________\n"
     ]
    }
   ],
   "source": [
    "model.summary()"
   ]
  },
  {
   "cell_type": "code",
   "execution_count": 17,
   "id": "18222e73",
   "metadata": {},
   "outputs": [
    {
     "ename": "ValueError",
     "evalue": "too many values to unpack (expected 3)",
     "output_type": "error",
     "traceback": [
      "\u001b[1;31m---------------------------------------------------------------------------\u001b[0m",
      "\u001b[1;31mValueError\u001b[0m                                Traceback (most recent call last)",
      "\u001b[1;32m<ipython-input-17-eef72912a3bb>\u001b[0m in \u001b[0;36m<module>\u001b[1;34m\u001b[0m\n\u001b[0;32m      1\u001b[0m \u001b[1;32mfrom\u001b[0m \u001b[0msklearn\u001b[0m\u001b[1;33m.\u001b[0m\u001b[0mmodel_selection\u001b[0m \u001b[1;32mimport\u001b[0m \u001b[0mtrain_test_split\u001b[0m\u001b[1;33m\u001b[0m\u001b[1;33m\u001b[0m\u001b[0m\n\u001b[1;32m----> 2\u001b[1;33m \u001b[0mX_train\u001b[0m\u001b[1;33m,\u001b[0m\u001b[0my_train\u001b[0m\u001b[1;33m,\u001b[0m\u001b[0my_test\u001b[0m\u001b[1;33m=\u001b[0m\u001b[0mtrain_test_split\u001b[0m\u001b[1;33m(\u001b[0m\u001b[0mData_in\u001b[0m\u001b[1;33m,\u001b[0m\u001b[0mData_out\u001b[0m\u001b[1;33m,\u001b[0m\u001b[0mtest_size\u001b[0m\u001b[1;33m=\u001b[0m\u001b[1;36m0.2\u001b[0m\u001b[1;33m,\u001b[0m\u001b[0mrandom_state\u001b[0m\u001b[1;33m=\u001b[0m\u001b[1;36m42\u001b[0m\u001b[1;33m)\u001b[0m\u001b[1;33m\u001b[0m\u001b[1;33m\u001b[0m\u001b[0m\n\u001b[0m",
      "\u001b[1;31mValueError\u001b[0m: too many values to unpack (expected 3)"
     ]
    }
   ],
   "source": [
    "from sklearn.model_selection import train_test_split\n",
    "X_train,y_train,y_test=train_test_split(Data_in,Data_out,test_size=0.2,random_state=42)"
   ]
  },
  {
   "cell_type": "code",
   "execution_count": null,
   "id": "0568e0c0",
   "metadata": {},
   "outputs": [],
   "source": []
  }
 ],
 "metadata": {
  "kernelspec": {
   "display_name": "Python 3",
   "language": "python",
   "name": "python3"
  },
  "language_info": {
   "codemirror_mode": {
    "name": "ipython",
    "version": 3
   },
   "file_extension": ".py",
   "mimetype": "text/x-python",
   "name": "python",
   "nbconvert_exporter": "python",
   "pygments_lexer": "ipython3",
   "version": "3.8.8"
  }
 },
 "nbformat": 4,
 "nbformat_minor": 5
}
